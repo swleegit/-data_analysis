{
 "cells": [
  {
   "cell_type": "markdown",
   "id": "bc61887a",
   "metadata": {},
   "source": [
    "# 딕셔너리\n",
    "### key, value로 이루어진 자료구조\n",
    "### {}를 이용하여 딕셔너리 선언\n",
    "### 딕셔너리의 key는 모두 고유값을 가지며, key를 활용해 value 값을 추출한다."
   ]
  },
  {
   "cell_type": "code",
   "execution_count": 2,
   "id": "34861f90",
   "metadata": {},
   "outputs": [
    {
     "name": "stdout",
     "output_type": "stream",
     "text": [
      "{'key1': 'value1', 'key2': 30}\n",
      "value1\n",
      "30\n"
     ]
    }
   ],
   "source": [
    "data_dict = {'key1': 'value1', 'key2':30 } #key는 중복 불가함\n",
    "print(data_dict)\n",
    "print(data_dict['key1'])#리스트는 인덱스로 값에 접근했지만, 리스트는 키로 값에 접근한다.\n",
    "print(data_dict['key2'])"
   ]
  },
  {
   "cell_type": "code",
   "execution_count": 3,
   "id": "a8911d10",
   "metadata": {},
   "outputs": [
    {
     "name": "stdout",
     "output_type": "stream",
     "text": [
      "{'key1': 10, 'key2': 30, 'key3': 20}\n"
     ]
    }
   ],
   "source": [
    "data_dict['key3'] = 20 #새로운 key와 value를 추가하는 방법\n",
    "data_dict['key1'] = 10 #기존의 key의 value를 변경하는 방법\n",
    "print(data_dict)"
   ]
  },
  {
   "cell_type": "code",
   "execution_count": 4,
   "id": "86077d64",
   "metadata": {},
   "outputs": [
    {
     "data": {
      "text/plain": [
       "True"
      ]
     },
     "execution_count": 4,
     "metadata": {},
     "output_type": "execute_result"
    }
   ],
   "source": [
    "'key1' in data_dict #리스트는 값 in 리스트로 했지만, 딕셔너리는 key in 딕셔너리"
   ]
  },
  {
   "cell_type": "code",
   "execution_count": 5,
   "id": "e1ad19b0",
   "metadata": {},
   "outputs": [
    {
     "data": {
      "text/plain": [
       "False"
      ]
     },
     "execution_count": 5,
     "metadata": {},
     "output_type": "execute_result"
    }
   ],
   "source": [
    "10 in data_dict #값으로 하면 안됨 "
   ]
  },
  {
   "cell_type": "code",
   "execution_count": 6,
   "id": "040fcb81",
   "metadata": {},
   "outputs": [
    {
     "name": "stdout",
     "output_type": "stream",
     "text": [
      "['key1', 'key2', 'key3']\n",
      "[10, 30, 20]\n"
     ]
    }
   ],
   "source": [
    "#keys, values, items(for문과 활용잘됨)\n",
    "key_list = list(data_dict.keys()) #딕셔너리의 키로 구성된 리스트를 만드는 방법\n",
    "value_list = list(data_dict.values())\n",
    "print(key_list)\n",
    "print(value_list)"
   ]
  },
  {
   "cell_type": "code",
   "execution_count": 7,
   "id": "26c11275",
   "metadata": {},
   "outputs": [
    {
     "name": "stdout",
     "output_type": "stream",
     "text": [
      "key는 key1이고, value는 10입니다.\n",
      "key는 key2이고, value는 30입니다.\n",
      "key는 key3이고, value는 20입니다.\n"
     ]
    }
   ],
   "source": [
    "for key, value in data_dict.items():\n",
    "    print(f\"key는 {key}이고, value는 {value}입니다.\")"
   ]
  },
  {
   "cell_type": "code",
   "execution_count": 8,
   "id": "0f114428",
   "metadata": {},
   "outputs": [
    {
     "data": {
      "text/plain": [
       "{'a': 1, 'b': 2, 'c': 3, 'd': 4}"
      ]
     },
     "execution_count": 8,
     "metadata": {},
     "output_type": "execute_result"
    }
   ],
   "source": [
    "#zip을 활용해서 길이가 같은 두개의 리스트를 딕셔너리로 만드는 방법\n",
    "map_dict = dict(zip(['a','b','c','d'],[1,2,3,4]))\n",
    "map_dict"
   ]
  },
  {
   "cell_type": "code",
   "execution_count": null,
   "id": "ae339c77",
   "metadata": {},
   "outputs": [],
   "source": []
  }
 ],
 "metadata": {
  "kernelspec": {
   "display_name": "Python 3 (ipykernel)",
   "language": "python",
   "name": "python3"
  },
  "language_info": {
   "codemirror_mode": {
    "name": "ipython",
    "version": 3
   },
   "file_extension": ".py",
   "mimetype": "text/x-python",
   "name": "python",
   "nbconvert_exporter": "python",
   "pygments_lexer": "ipython3",
   "version": "3.9.12"
  }
 },
 "nbformat": 4,
 "nbformat_minor": 5
}
