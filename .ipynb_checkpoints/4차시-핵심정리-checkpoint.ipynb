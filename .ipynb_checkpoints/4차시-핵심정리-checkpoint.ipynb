{
 "cells": [
  {
   "cell_type": "markdown",
   "id": "02ac4cd0",
   "metadata": {},
   "source": [
    "# 시리즈 연산\n",
    "#### series_new = series + 1 (* / -), 각 value에 계산\n",
    "#### 시리즈끼리 연산 가능함, 같은 key를 가진 value와 연산됨 \n",
    "#### 방법1. series1 + series2 이런식 \n",
    "#### 같은 크기의 시리즈를 구성으로 데이터프레임을 만들 수 있다.\n",
    "#### df = pd.DataFrame([series1, series2, ... ] 시리즈의 키는 열이된다. \n",
    "#### 방법2. 시리즈 메소드 사용 add ,sub, mul, div , series1.add(series2)이런식을 사용\n",
    "#### 인덱스에 해당 값이 없을때, fill_value를 사용하여 산술연산을 수행한다.\n",
    "#### series1.add(series2, fill_value = 50) 만약 series2 에 1에 있는 키값이 없는 경우에는 값을 50으로 해서 계산을 수행한다는 의미\n",
    "#### 부족한 경우에 사용가능하다는 것 \n",
    "#### 서로 key의 개수는 같은데 key가 다른경우 같은 것만 해당연산을 수행하고 다른 key는 연산을 하지 않고 NaN을 값으로 반환\n",
    "\n",
    "# 데이터프레임 연산 \n",
    "#### import seaborn as sns , iris = sns.load_dataset('iris'), sns안에 iris라는 데이터 프레임이 있음 .\n",
    "#### iris.head() iris라는 데이터프레임중 상위 5개의 행만 불러온다\n",
    "#### df = iris.loc[:, [열1, 열2]] , loc[행, 열 ] 전체 행 중에서 열1과 열2의 교집합을 부른다. \n",
    "#### df = df + 1 모든 원소값에 1을 더한다는 의미 \n",
    "\n",
    "#### 행과 열의 크기가 같은 데이터 프레임간의 연산이 가능하다 . ( +행과 열의 정보도 일치한 경우)\n",
    "#### df1  + df2\n",
    "#### 크기는 같지만 행과 열의 정보가 일치하지 않는 경우도 가능하다 일치한 경우만 연산을 수행하고 나머지는 NaN을 반환 \n",
    "\n",
    "\n"
   ]
  },
  {
   "cell_type": "markdown",
   "id": "b4c70222",
   "metadata": {},
   "source": [
    "# 데이터프레임 정보"
   ]
  },
  {
   "cell_type": "code",
   "execution_count": 2,
   "id": "56e8441f",
   "metadata": {
    "scrolled": false
   },
   "outputs": [
    {
     "name": "stdout",
     "output_type": "stream",
     "text": [
      "   sepal_length  sepal_width  petal_length  petal_width species\n",
      "0           5.1          3.5           1.4          0.2  setosa\n",
      "1           4.9          3.0           1.4          0.2  setosa\n",
      "2           4.7          3.2           1.3          0.2  setosa\n",
      "3           4.6          3.1           1.5          0.2  setosa\n",
      "4           5.0          3.6           1.4          0.2  setosa\n",
      "     sepal_length  sepal_width  petal_length  petal_width    species\n",
      "145           6.7          3.0           5.2          2.3  virginica\n",
      "146           6.3          2.5           5.0          1.9  virginica\n",
      "147           6.5          3.0           5.2          2.0  virginica\n",
      "148           6.2          3.4           5.4          2.3  virginica\n",
      "149           5.9          3.0           5.1          1.8  virginica\n"
     ]
    }
   ],
   "source": [
    "import pandas as pd\n",
    "import seaborn as sns\n",
    "iris = sns.load_dataset('iris')\n",
    "print(iris.head())\n",
    "print(iris.tail())"
   ]
  },
  {
   "cell_type": "code",
   "execution_count": 3,
   "id": "02aebb42",
   "metadata": {},
   "outputs": [
    {
     "data": {
      "text/plain": [
       "(150, 5)"
      ]
     },
     "execution_count": 3,
     "metadata": {},
     "output_type": "execute_result"
    }
   ],
   "source": [
    "iris.shape"
   ]
  },
  {
   "cell_type": "code",
   "execution_count": 5,
   "id": "a430598c",
   "metadata": {},
   "outputs": [
    {
     "name": "stdout",
     "output_type": "stream",
     "text": [
      "<class 'pandas.core.frame.DataFrame'>\n",
      "RangeIndex: 150 entries, 0 to 149\n",
      "Data columns (total 5 columns):\n",
      " #   Column        Non-Null Count  Dtype  \n",
      "---  ------        --------------  -----  \n",
      " 0   sepal_length  150 non-null    float64\n",
      " 1   sepal_width   150 non-null    float64\n",
      " 2   petal_length  150 non-null    float64\n",
      " 3   petal_width   150 non-null    float64\n",
      " 4   species       150 non-null    object \n",
      "dtypes: float64(4), object(1)\n",
      "memory usage: 6.0+ KB\n"
     ]
    }
   ],
   "source": [
    "iris.info() #info하고 info()는 다르다"
   ]
  },
  {
   "cell_type": "code",
   "execution_count": 7,
   "id": "41d8b78e",
   "metadata": {},
   "outputs": [
    {
     "name": "stdout",
     "output_type": "stream",
     "text": [
      "sepal_length    float64\n",
      "sepal_width     float64\n",
      "petal_length    float64\n",
      "petal_width     float64\n",
      "species          object\n",
      "dtype: object\n"
     ]
    }
   ],
   "source": [
    "print(iris.dtypes) #object는 문자열을 의미한다 , df.dtypes"
   ]
  },
  {
   "cell_type": "code",
   "execution_count": 8,
   "id": "e527c5af",
   "metadata": {},
   "outputs": [
    {
     "name": "stdout",
     "output_type": "stream",
     "text": [
      "sepal_width data_type float64\n"
     ]
    }
   ],
   "source": [
    "print('sepal_width data_type', iris.sepal_width.dtypes) #df.열.dtypes"
   ]
  },
  {
   "cell_type": "code",
   "execution_count": 9,
   "id": "9ca05fa6",
   "metadata": {},
   "outputs": [
    {
     "name": "stdout",
     "output_type": "stream",
     "text": [
      "       sepal_length  sepal_width  petal_length  petal_width\n",
      "count    150.000000   150.000000    150.000000   150.000000\n",
      "mean       5.843333     3.057333      3.758000     1.199333\n",
      "std        0.828066     0.435866      1.765298     0.762238\n",
      "min        4.300000     2.000000      1.000000     0.100000\n",
      "25%        5.100000     2.800000      1.600000     0.300000\n",
      "50%        5.800000     3.000000      4.350000     1.300000\n",
      "75%        6.400000     3.300000      5.100000     1.800000\n",
      "max        7.900000     4.400000      6.900000     2.500000\n"
     ]
    }
   ],
   "source": [
    "print(iris.describe()) #object 자료형을 제외한 나머지 값에 대한 갯수, 평균, 표준편차, 최소, .. 등등 "
   ]
  },
  {
   "cell_type": "code",
   "execution_count": 10,
   "id": "09b3d3e2",
   "metadata": {},
   "outputs": [
    {
     "name": "stdout",
     "output_type": "stream",
     "text": [
      "        sepal_length  sepal_width  petal_length  petal_width species\n",
      "count     150.000000   150.000000    150.000000   150.000000     150\n",
      "unique           NaN          NaN           NaN          NaN       3\n",
      "top              NaN          NaN           NaN          NaN  setosa\n",
      "freq             NaN          NaN           NaN          NaN      50\n",
      "mean        5.843333     3.057333      3.758000     1.199333     NaN\n",
      "std         0.828066     0.435866      1.765298     0.762238     NaN\n",
      "min         4.300000     2.000000      1.000000     0.100000     NaN\n",
      "25%         5.100000     2.800000      1.600000     0.300000     NaN\n",
      "50%         5.800000     3.000000      4.350000     1.300000     NaN\n",
      "75%         6.400000     3.300000      5.100000     1.800000     NaN\n",
      "max         7.900000     4.400000      6.900000     2.500000     NaN\n"
     ]
    }
   ],
   "source": [
    "print(iris.describe(include = 'all')) #object파일을 포함해서 계산"
   ]
  },
  {
   "cell_type": "code",
   "execution_count": 13,
   "id": "9095e768",
   "metadata": {},
   "outputs": [
    {
     "name": "stdout",
     "output_type": "stream",
     "text": [
      "Index(['sepal_length', 'sepal_width', 'petal_length', 'petal_width',\n",
      "       'species'],\n",
      "      dtype='object')\n",
      "\n",
      "\n",
      "sepal_length고유값 개수: 35\n",
      "sepal_width고유값 개수: 23\n",
      "petal_length고유값 개수: 43\n",
      "petal_width고유값 개수: 22\n",
      "species고유값 개수: 3\n"
     ]
    }
   ],
   "source": [
    "# 각 열의 고유값 개수 화긴하기 \n",
    "columns = iris.columns #df.index, df.columns\n",
    "print(columns)\n",
    "print('\\n')\n",
    "for column in columns:\n",
    "    unique_count = iris[column].nunique() #df[열].nunique() 해당열의 고유값 개수를 반환한다.\n",
    "    print('{}고유값 개수: {}'.format(column, unique_count))"
   ]
  },
  {
   "cell_type": "code",
   "execution_count": 14,
   "id": "1c8b3992",
   "metadata": {},
   "outputs": [
    {
     "data": {
      "text/plain": [
       "sepal_length    150\n",
       "sepal_width     150\n",
       "petal_length    150\n",
       "petal_width     150\n",
       "species         150\n",
       "dtype: int64"
      ]
     },
     "execution_count": 14,
     "metadata": {},
     "output_type": "execute_result"
    }
   ],
   "source": [
    "iris.count() #각 열의 data갯수를 반환한다. "
   ]
  },
  {
   "cell_type": "code",
   "execution_count": 15,
   "id": "84d3e8fb",
   "metadata": {},
   "outputs": [],
   "source": [
    "unique_count = iris['species'].value_counts() #해당열의 어떤 값이 몇개 있는지를 반환한다. df[열].nunique()와 비교"
   ]
  },
  {
   "cell_type": "code",
   "execution_count": 16,
   "id": "6c3e0379",
   "metadata": {},
   "outputs": [
    {
     "name": "stdout",
     "output_type": "stream",
     "text": [
      "setosa        50\n",
      "versicolor    50\n",
      "virginica     50\n",
      "Name: species, dtype: int64\n"
     ]
    }
   ],
   "source": [
    "print(unique_count)"
   ]
  },
  {
   "cell_type": "code",
   "execution_count": 18,
   "id": "ab7cd574",
   "metadata": {},
   "outputs": [
    {
     "name": "stdout",
     "output_type": "stream",
     "text": [
      "3\n"
     ]
    }
   ],
   "source": [
    "#고유값 개수구하는 방법1\n",
    "print(iris['species'].nunique())"
   ]
  },
  {
   "cell_type": "code",
   "execution_count": 19,
   "id": "4cad15d3",
   "metadata": {},
   "outputs": [
    {
     "name": "stdout",
     "output_type": "stream",
     "text": [
      "setosa        50\n",
      "versicolor    50\n",
      "virginica     50\n",
      "Name: species, dtype: int64\n",
      "3\n"
     ]
    }
   ],
   "source": [
    "#고유값 개수구하는 방법2\n",
    "unique_count = iris['species'].value_counts()\n",
    "print(unique_count)\n",
    "print(len(unique_count))"
   ]
  },
  {
   "cell_type": "markdown",
   "id": "835ae494",
   "metadata": {},
   "source": [
    "# 데이터프레임 통계 함수\n",
    "#### 데이터에 대한 각종 통계 데이터를 추출할 수 있는 메소드\n",
    "#### 전체합, 평균값, 표준편차, 중간값, 최대최소값, 상관계수\n",
    "#### 대부분 int, float에 적용되지만 일부는 문자열에도 사용가능"
   ]
  },
  {
   "cell_type": "code",
   "execution_count": 3,
   "id": "bd604471",
   "metadata": {},
   "outputs": [
    {
     "name": "stdout",
     "output_type": "stream",
     "text": [
      "sepal_length                                                876.5\n",
      "sepal_width                                                 458.6\n",
      "petal_length                                                563.7\n",
      "petal_width                                                 179.9\n",
      "species         setosasetosasetosasetosasetosasetosasetosaseto...\n",
      "dtype: object\n"
     ]
    }
   ],
   "source": [
    "print(iris.sum()) #각 열별로 있는 데이터를 모두 합한다. "
   ]
  },
  {
   "cell_type": "code",
   "execution_count": 4,
   "id": "ac9d9795",
   "metadata": {},
   "outputs": [
    {
     "name": "stdout",
     "output_type": "stream",
     "text": [
      "sepal_length 총합:  876.5\n"
     ]
    }
   ],
   "source": [
    "print('sepal_length 총합: ', iris['sepal_length'].sum()) # df[열].sum() 해당열의 value를 다합한값"
   ]
  },
  {
   "cell_type": "code",
   "execution_count": 5,
   "id": "ed9ed43e",
   "metadata": {},
   "outputs": [],
   "source": [
    "#사용법은 같은, mean, std, median,max, min"
   ]
  },
  {
   "cell_type": "code",
   "execution_count": 6,
   "id": "8ea9ecc0",
   "metadata": {},
   "outputs": [
    {
     "name": "stdout",
     "output_type": "stream",
     "text": [
      "              sepal_length  sepal_width  petal_length  petal_width\n",
      "sepal_length      1.000000    -0.117570      0.871754     0.817941\n",
      "sepal_width      -0.117570     1.000000     -0.428440    -0.366126\n",
      "petal_length      0.871754    -0.428440      1.000000     0.962865\n",
      "petal_width       0.817941    -0.366126      0.962865     1.000000\n"
     ]
    }
   ],
   "source": [
    "#상관계수 : 두열을 한쌍으로 하여 두 변수간의 상관계수(r)을 반환함.\n",
    "#양의 상관관계 r>0 증증 감감 관계 , 1 에 가까울수록 이것이 더 두드러진다는 의미, 1 이면 두열의 각각의 값은 완전히 같음\n",
    "#r=-1에 가까울 수록 증감 감증 관계가 더 두드러진다는 의미\n",
    "print(iris.corr())"
   ]
  },
  {
   "cell_type": "code",
   "execution_count": 7,
   "id": "ce973551",
   "metadata": {},
   "outputs": [
    {
     "name": "stdout",
     "output_type": "stream",
     "text": [
      "              sepal_length  petal_length\n",
      "sepal_length      1.000000      0.871754\n",
      "petal_length      0.871754      1.000000\n"
     ]
    }
   ],
   "source": [
    "#특정 두 열의 상관계수 \n",
    "print(iris[['sepal_length', 'petal_length']].corr()) #두개의 열을 고를때는 [[]]구조로 반드시 ! "
   ]
  },
  {
   "cell_type": "markdown",
   "id": "76f4804d",
   "metadata": {},
   "source": [
    "# 데이터 입출력\n",
    "### 지원파일(대표적인것 ) : csv, json, excel"
   ]
  },
  {
   "cell_type": "code",
   "execution_count": 10,
   "id": "a4b20cfa",
   "metadata": {},
   "outputs": [
    {
     "name": "stdout",
     "output_type": "stream",
     "text": [
      "   col1  col2  col3  col4\n",
      "0     0     1     2     3\n",
      "1     4     5     6     7\n",
      "2     8     9    10    11\n",
      "3    12    13    14    15\n"
     ]
    }
   ],
   "source": [
    "file_path = './read_sample1.csv' #값들이 ,로 구분된 것, 메모장 저장시 확장자를 csv로 하면된다. \n",
    "\n",
    "df1 = pd.read_csv(file_path)\n",
    "print(df1)"
   ]
  },
  {
   "cell_type": "code",
   "execution_count": 12,
   "id": "9b6c7433",
   "metadata": {},
   "outputs": [
    {
     "name": "stdout",
     "output_type": "stream",
     "text": [
      "      0     1     2     3\n",
      "0  col1  col2  col3  col4\n",
      "1     0     1     2     3\n",
      "2     4     5     6     7\n",
      "3     8     9    10    11\n",
      "4    12    13    14    15\n"
     ]
    }
   ],
   "source": [
    "df2 = pd.read_csv(file_path, header = None)  # csv파일의 첫번째 행이 열이 아니라 값이다라는 의미\n",
    "print(df2)"
   ]
  },
  {
   "cell_type": "code",
   "execution_count": 13,
   "id": "53e6bcf0",
   "metadata": {},
   "outputs": [
    {
     "name": "stdout",
     "output_type": "stream",
     "text": [
      "      col2  col3  col4\n",
      "col1                  \n",
      "0        1     2     3\n",
      "4        5     6     7\n",
      "8        9    10    11\n",
      "12      13    14    15\n"
     ]
    }
   ],
   "source": [
    "df3 = pd.read_csv(file_path, index_col = 'col1') #csv 파일에서 col1 열에 해당하는 것을 index로 사용하겠다! \n",
    "print(df3)"
   ]
  },
  {
   "cell_type": "code",
   "execution_count": 16,
   "id": "026c927d",
   "metadata": {},
   "outputs": [
    {
     "name": "stdout",
     "output_type": "stream",
     "text": [
      "   이름 성별  연령   점수  졸업연도\n",
      "0  기범  남  30   90  2010\n",
      "1  혜리  여  25   80  2015\n",
      "2  동엽  남  50  100  1982\n",
      "3  동현  남  40   50  1993\n",
      "4  한해  남  32   70  2008\n"
     ]
    }
   ],
   "source": [
    "#excel파일\n",
    "#conda install openpyxl 라이브러리 설치 후 엑셀 파일 로드!\n",
    "#엑셀에서 처리하기 힘든걸 파이썬으로 옮겨서 데이터 처리가능함\n",
    "#반대로 데이터프레임을 엑셀로 시각화 시키고 싶으면 이동시키면 되고 \n",
    "file_path = './read_sample1.xlsx'\n",
    "df1 = pd.read_excel(file_path, engine = 'openpyxl')\n",
    "print(df1)"
   ]
  },
  {
   "cell_type": "code",
   "execution_count": 18,
   "id": "c2fa3ff1",
   "metadata": {},
   "outputs": [
    {
     "name": "stdout",
     "output_type": "stream",
     "text": [
      "    0   1   2    3     4\n",
      "0  이름  성별  연령   점수  졸업연도\n",
      "1  기범   남  30   90  2010\n",
      "2  혜리   여  25   80  2015\n",
      "3  동엽   남  50  100  1982\n",
      "4  동현   남  40   50  1993\n",
      "5  한해   남  32   70  2008\n"
     ]
    }
   ],
   "source": [
    "df1 = pd.read_excel(file_path, header = None, engine = 'openpyxl')\n",
    "print(df1)"
   ]
  },
  {
   "cell_type": "code",
   "execution_count": 19,
   "id": "3fe7b380",
   "metadata": {},
   "outputs": [],
   "source": [
    "#json파일 key:value 구조를 갖는 특수한 파일 형식"
   ]
  },
  {
   "cell_type": "code",
   "execution_count": 21,
   "id": "d9dfaf50",
   "metadata": {},
   "outputs": [
    {
     "name": "stdout",
     "output_type": "stream",
     "text": [
      "   이름   국어  수학   영어   음악\n",
      "0  기범  100  90  100   80\n",
      "1  혜리   80  80   40  100\n",
      "2  동엽   30  50   90   40\n",
      "\n",
      "\n"
     ]
    }
   ],
   "source": [
    "#데이터 출력 하기 csv, excel, json 모두 같음\n",
    "dict_data = {\n",
    "    '이름' : ['기범', '혜리', '동엽'],\n",
    "    '국어' : [100,80,30], '수학' : [90,80,50],\n",
    "    '영어' : [100,40,90], '음악' : [80,100,40]\n",
    "}\n",
    "\n",
    "df = pd.DataFrame(dict_data)\n",
    "print(df)\n",
    "print('\\n')\n"
   ]
  },
  {
   "cell_type": "code",
   "execution_count": 22,
   "id": "7e3266b7",
   "metadata": {},
   "outputs": [
    {
     "name": "stdout",
     "output_type": "stream",
     "text": [
      "     국어  수학   영어   음악\n",
      "이름                   \n",
      "기범  100  90  100   80\n",
      "혜리   80  80   40  100\n",
      "동엽   30  50   90   40\n"
     ]
    }
   ],
   "source": [
    "df.set_index('이름', inplace = True) #'이름'열을 index로 하겠다.\n",
    "print(df)"
   ]
  },
  {
   "cell_type": "code",
   "execution_count": 23,
   "id": "f02bfedd",
   "metadata": {},
   "outputs": [],
   "source": [
    "df.to_csv('./write_sample.csv')"
   ]
  },
  {
   "cell_type": "code",
   "execution_count": null,
   "id": "5dcc36ea",
   "metadata": {},
   "outputs": [],
   "source": []
  }
 ],
 "metadata": {
  "kernelspec": {
   "display_name": "Python 3 (ipykernel)",
   "language": "python",
   "name": "python3"
  },
  "language_info": {
   "codemirror_mode": {
    "name": "ipython",
    "version": 3
   },
   "file_extension": ".py",
   "mimetype": "text/x-python",
   "name": "python",
   "nbconvert_exporter": "python",
   "pygments_lexer": "ipython3",
   "version": "3.9.12"
  }
 },
 "nbformat": 4,
 "nbformat_minor": 5
}
