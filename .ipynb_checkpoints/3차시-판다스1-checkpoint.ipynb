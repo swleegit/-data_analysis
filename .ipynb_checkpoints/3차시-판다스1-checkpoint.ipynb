{
 "cells": [
  {
   "cell_type": "markdown",
   "id": "c7886663",
   "metadata": {},
   "source": [
    "# 판다스\n",
    "### 데이터를 수집하고 정리하는데 최적화된 도구\n",
    "### 오픈소스로 무료라는 장점을 가지고 파이썬을 기반으로함.\n",
    "### 데이터를 다루는 업무의 대부분을 판다스로 기본적으로 처리함 \n",
    "### 공식홈페이지에서 더 다양한 사용법을 익힐 수 있다.\n",
    "### 판다스(패키지) 자료구조\n",
    "### 시리즈와 데이터프레임\n",
    "### 데이터의 속성은 매우 다양함(숫자, 문자, 시간,날짜,범주 등)다양한 형식의 데이터를 동일한 형식으로 통합해야 함\n",
    "### 시리즈는 1차원 배열\n",
    "### 데이터프레임은 2차원 배열(행과열) "
   ]
  },
  {
   "cell_type": "markdown",
   "id": "b861a7c1",
   "metadata": {},
   "source": [
    "# 시리즈 \n",
    "### 데이터가 순차적으로 나열된 1차원 배열 \n",
    "### 인덱스(key)와 데이터의 값(value)가 일대일 대응으로 이루어진 데이터 : 딕셔너리와 비슷\n",
    "### index와 key 동시홀용 가능하다는 것이 딕셔너리와의 차이점"
   ]
  },
  {
   "cell_type": "code",
   "execution_count": 1,
   "id": "62385124",
   "metadata": {},
   "outputs": [],
   "source": [
    "import pandas as pd"
   ]
  },
  {
   "cell_type": "code",
   "execution_count": 6,
   "id": "3493cbf8",
   "metadata": {},
   "outputs": [],
   "source": [
    "#딕셔너리 자료구조를 판다스의 시리즈로 변환\n",
    "dict_data = {'a':1, 'b':2, 'c': 3}\n",
    "series = pd.Series(dict_data) #Series 첫글자는 대문자로 해야한다."
   ]
  },
  {
   "cell_type": "code",
   "execution_count": 7,
   "id": "c949e506",
   "metadata": {},
   "outputs": [
    {
     "name": "stdout",
     "output_type": "stream",
     "text": [
      "<class 'pandas.core.series.Series'>\n"
     ]
    }
   ],
   "source": [
    "print(type(series))"
   ]
  },
  {
   "cell_type": "code",
   "execution_count": 8,
   "id": "fec8b2fd",
   "metadata": {},
   "outputs": [
    {
     "name": "stdout",
     "output_type": "stream",
     "text": [
      "a    1\n",
      "b    2\n",
      "c    3\n",
      "dtype: int64\n"
     ]
    }
   ],
   "source": [
    "print(series) #key와 value가 같이 출력된다. "
   ]
  },
  {
   "cell_type": "markdown",
   "id": "49a2b238",
   "metadata": {},
   "source": [
    "# 인덱스 구조\n",
    "### 시리즈에서 인덱스를 잘 활용하면 값의 탐색, 정렬, 선택, 결합을 쉽게 할 수 있음\n",
    "### 정수형 인덱스가 기본으로 사용되며, 직접 이름을 지정할 수도 있음\n"
   ]
  },
  {
   "cell_type": "code",
   "execution_count": 10,
   "id": "e7145877",
   "metadata": {},
   "outputs": [
    {
     "name": "stdout",
     "output_type": "stream",
     "text": [
      "0    2021-04-26\n",
      "1            철수\n",
      "2             남\n",
      "3           100\n",
      "4          True\n",
      "dtype: object\n",
      "\n",
      "\n",
      "RangeIndex(start=0, stop=5, step=1)\n",
      "\n",
      "\n",
      "['2021-04-26' '철수' '남' 100 True]\n"
     ]
    }
   ],
   "source": [
    "#리스트 자료형을 시리즈로 변환 \n",
    "list_data = ['2021-04-26', '철수', '남', 100, True]\n",
    "series = pd.Series(list_data)\n",
    "print(series)\n",
    "print('\\n')\n",
    "print(series.index)#index를 추출, 시작 , 끝 단계 \n",
    "print('\\n')\n",
    "print(series.values)"
   ]
  },
  {
   "cell_type": "markdown",
   "id": "b2182bc2",
   "metadata": {},
   "source": [
    "### 시리즈 원소 선택"
   ]
  },
  {
   "cell_type": "code",
   "execution_count": 12,
   "id": "111d2e6f",
   "metadata": {},
   "outputs": [
    {
     "name": "stdout",
     "output_type": "stream",
     "text": [
      "날짜      2021-04-26\n",
      "이름              철수\n",
      "성별               남\n",
      "점수             100\n",
      "전학여부          True\n",
      "dtype: object\n"
     ]
    }
   ],
   "source": [
    "list_data = ['2021-04-26', '철수', '남', 100, True]\n",
    "index_name = ['날짜', '이름', '성별', '점수', '전학여부'] #key값들을 갯수에 맞게 리스트로 선언한다음에 \n",
    "series = pd.Series(list_data, index = index_name) #리스트로 시리즈를 만든경우 key값을 부여하는 방법\n",
    "print(series)"
   ]
  },
  {
   "cell_type": "code",
   "execution_count": 13,
   "id": "79e495d9",
   "metadata": {},
   "outputs": [
    {
     "name": "stdout",
     "output_type": "stream",
     "text": [
      "2021-04-26 철수\n"
     ]
    }
   ],
   "source": [
    "print(series[0], series['이름']) #index 또는 key 값으로 호출이 가능함 "
   ]
  },
  {
   "cell_type": "code",
   "execution_count": 15,
   "id": "b4c0d28a",
   "metadata": {},
   "outputs": [
    {
     "name": "stdout",
     "output_type": "stream",
     "text": [
      "날짜    2021-04-26\n",
      "성별             남\n",
      "dtype: object\n"
     ]
    }
   ],
   "source": [
    "print(series[[0,2]]) #두개이상을 ,로 부를때는 반드시 [[]] 구조를 해야한다! "
   ]
  },
  {
   "cell_type": "code",
   "execution_count": 16,
   "id": "8bbec77a",
   "metadata": {},
   "outputs": [
    {
     "name": "stdout",
     "output_type": "stream",
     "text": [
      "날짜      2021-04-26\n",
      "전학여부          True\n",
      "dtype: object\n"
     ]
    }
   ],
   "source": [
    "print(series[['날짜', '전학여부']])"
   ]
  },
  {
   "cell_type": "code",
   "execution_count": 17,
   "id": "3382e6ad",
   "metadata": {},
   "outputs": [
    {
     "name": "stdout",
     "output_type": "stream",
     "text": [
      "성별         남\n",
      "점수       100\n",
      "전학여부    True\n",
      "dtype: object\n"
     ]
    }
   ],
   "source": [
    "print(series[2:5]) #슬라이싱으로 2개이상을 부를 때는 [] 구조면 됨"
   ]
  },
  {
   "cell_type": "code",
   "execution_count": 18,
   "id": "a853e9a4",
   "metadata": {},
   "outputs": [
    {
     "name": "stdout",
     "output_type": "stream",
     "text": [
      "성별         남\n",
      "점수       100\n",
      "전학여부    True\n",
      "dtype: object\n"
     ]
    }
   ],
   "source": [
    "print(series['성별':'전학여부']) #슬라이싱으로 key를 활용해도 좋다"
   ]
  },
  {
   "cell_type": "markdown",
   "id": "2591eef7",
   "metadata": {},
   "source": [
    "## 데이터 프레임\n",
    "### 2차원 배열로 행과 열로 이루어짐 \n",
    "### 시리즈가 한개의 column(열)이 되고 여러개의 시리즈를 붙이면 행과열로 이루어진 2차원 데이터 "
   ]
  },
  {
   "cell_type": "code",
   "execution_count": 20,
   "id": "ce4a42a4",
   "metadata": {},
   "outputs": [
    {
     "name": "stdout",
     "output_type": "stream",
     "text": [
      "<class 'pandas.core.frame.DataFrame'>\n",
      "   col1  col2  col3  col4\n",
      "0     0     3     6     9\n",
      "1     1     4     7    10\n",
      "2     2     5     8    11\n"
     ]
    }
   ],
   "source": [
    "#딕셔너리를 이용해서 데이터프레임을 만드는 방법\n",
    "#key 그에 대응 하는 값은 리스트로 만들어 딕셔너리를 선언한다. \n",
    "#key가 열이된다.\n",
    "\n",
    "dic_data = {\n",
    "    'col1' : [0,1,2],\n",
    "    'col2' : [3,4,5],\n",
    "    'col3' : [6,7,8],\n",
    "    'col4' : [9,10,11]\n",
    "}\n",
    "df = pd.DataFrame(dic_data) # 케멀케이스\n",
    "print(type(df))\n",
    "print(df)"
   ]
  },
  {
   "cell_type": "code",
   "execution_count": 21,
   "id": "c23126db",
   "metadata": {},
   "outputs": [
    {
     "name": "stdout",
     "output_type": "stream",
     "text": [
      "   gender  age school\n",
      "기범      남   30    경기고\n",
      "혜리      여   25    서울고\n"
     ]
    }
   ],
   "source": [
    "#리스트를 이용해서 데이터프레임을 만드는 방법\n",
    "df = pd.DataFrame(\n",
    "[['남',30,'경기고'], ['여', 25, '서울고']],\n",
    "index = ['기범', '혜리'],\n",
    "columns = ['gender', 'age', 'school']) #딕셔너리로 만드는 것과 비교\n",
    "print(df)"
   ]
  },
  {
   "cell_type": "code",
   "execution_count": 22,
   "id": "354f6888",
   "metadata": {},
   "outputs": [
    {
     "name": "stdout",
     "output_type": "stream",
     "text": [
      "Index(['기범', '혜리'], dtype='object')\n"
     ]
    }
   ],
   "source": [
    "print(df.index)"
   ]
  },
  {
   "cell_type": "code",
   "execution_count": 23,
   "id": "a15650c6",
   "metadata": {},
   "outputs": [
    {
     "name": "stdout",
     "output_type": "stream",
     "text": [
      "[['남' 30 '경기고']\n",
      " ['여' 25 '서울고']]\n"
     ]
    }
   ],
   "source": [
    "print(df.values)"
   ]
  },
  {
   "cell_type": "markdown",
   "id": "f8c62208",
   "metadata": {},
   "source": [
    "### 행, 열 이름 설정 "
   ]
  },
  {
   "cell_type": "code",
   "execution_count": 24,
   "id": "d97448a3",
   "metadata": {},
   "outputs": [
    {
     "name": "stdout",
     "output_type": "stream",
     "text": [
      "   gender  age school\n",
      "기범      남   30    경기고\n",
      "혜리      여   25    서울고\n"
     ]
    }
   ],
   "source": [
    "print(df)"
   ]
  },
  {
   "cell_type": "code",
   "execution_count": 25,
   "id": "fef6754d",
   "metadata": {},
   "outputs": [
    {
     "name": "stdout",
     "output_type": "stream",
     "text": [
      "    성별  연령   학교\n",
      "이름1  남  30  경기고\n",
      "이름2  여  25  서울고\n"
     ]
    }
   ],
   "source": [
    "#리스트를 활용하여 행, 열 이름을 재설정하는 방법\n",
    "df.index  = ['이름1','이름2']\n",
    "df.columns = ['성별', '연령', '학교']\n",
    "print(df)"
   ]
  },
  {
   "cell_type": "code",
   "execution_count": 26,
   "id": "f4b0c945",
   "metadata": {},
   "outputs": [
    {
     "name": "stdout",
     "output_type": "stream",
     "text": [
      "    성별  연령   학교\n",
      "이름1  남  30  경기고\n",
      "이름2  여  25  서울고\n"
     ]
    }
   ],
   "source": [
    "#딕셔너리를 활용하여 행,열 이름을 재설정하는 방법\n",
    "df.rename(columns = {'gender' : '성별', 'age' : '연령', 'school': '학교'}) #데이터프레임이름.rename(columns = {기존: 새로운})\n",
    "df.rename(index = {'기범': '이름1', '혜리': '이름2'})\n",
    "print(df)"
   ]
  },
  {
   "cell_type": "markdown",
   "id": "bc4007b2",
   "metadata": {},
   "source": [
    "## 데이터 프레임에서 특정 행 선택 방법"
   ]
  },
  {
   "cell_type": "markdown",
   "id": "89463325",
   "metadata": {},
   "source": [
    "### loc메소드 : location 인덱스 이름으로 탐색\n",
    "### iloc메소드 : index location 정수형 인덱스로 탐색"
   ]
  },
  {
   "cell_type": "code",
   "execution_count": 27,
   "id": "43676533",
   "metadata": {},
   "outputs": [
    {
     "name": "stdout",
     "output_type": "stream",
     "text": [
      "     국어  수학   영어   음악\n",
      "기범  100  90  100   80\n",
      "혜리   80  80   40  100\n",
      "동엽   30  50   90   40\n",
      "     국어  수학   영어   음악\n",
      "기범  100  90  100   80\n",
      "혜리   80  80   40  100\n",
      "동엽   30  50   90   40\n"
     ]
    }
   ],
   "source": [
    "#딕셔너리를 이용해서 데이터 프레임 만들기\n",
    "exam_data = {\n",
    "    '국어' : [100,80,30],\n",
    "    '수학' : [90,80,50],\n",
    "    '영어' : [100,40,90],\n",
    "    '음악' : [80,100,40]\n",
    "}\n",
    "df = pd.DataFrame(exam_data, index = ['기범', '혜리','동엽'])\n",
    "\n",
    "print(df)\n",
    "\n",
    "#리스트를 이용해서 데이터 프레임 만들기\n",
    "df = pd.DataFrame(\n",
    "    [[100,90,100,80],\n",
    "    [80,80,40,100],\n",
    "    [30,50,90,40]],\n",
    "    index = ['기범','혜리','동엽'],\n",
    "    columns = ['국어','수학','영어','음악'])\n",
    "\n",
    "print(df)"
   ]
  },
  {
   "cell_type": "code",
   "execution_count": 28,
   "id": "31245fa7",
   "metadata": {},
   "outputs": [],
   "source": [
    "location = df.loc[['기범','혜리']] #행선택방법, 시리즈 처럼 2개 이상의 행 , 로 선택할 때는 [[]]구조!"
   ]
  },
  {
   "cell_type": "code",
   "execution_count": 29,
   "id": "d1a708ac",
   "metadata": {},
   "outputs": [
    {
     "name": "stdout",
     "output_type": "stream",
     "text": [
      "     국어  수학   영어   음악\n",
      "기범  100  90  100   80\n",
      "혜리   80  80   40  100\n"
     ]
    }
   ],
   "source": [
    "print(location)"
   ]
  },
  {
   "cell_type": "code",
   "execution_count": 30,
   "id": "a250c69d",
   "metadata": {},
   "outputs": [
    {
     "name": "stdout",
     "output_type": "stream",
     "text": [
      "    국어  수학  영어   음악\n",
      "혜리  80  80  40  100\n",
      "동엽  30  50  90   40\n"
     ]
    }
   ],
   "source": [
    "ilocation = df.iloc[[1,2]] #시리즈는 시리즈[] 이런식으로 key와 value 둘다 똑같이 사용했지만 데이터 프레임은 다르다.!\n",
    "print(ilocation) "
   ]
  },
  {
   "cell_type": "markdown",
   "id": "9a24f5d4",
   "metadata": {},
   "source": [
    "### ilocation 고급활용\n",
    "#### iloc을 활용하여 범위를 지정하고, 슬라이싱 간격을 조정할 수 있음\n",
    "#### 슬라이싱 간격에 -1을 입력하면 역순으로 정렬됨\n"
   ]
  },
  {
   "cell_type": "code",
   "execution_count": 31,
   "id": "36fc76dd",
   "metadata": {},
   "outputs": [
    {
     "name": "stdout",
     "output_type": "stream",
     "text": [
      "     국어   수학   영어   음악\n",
      "기범  100   90  100   80\n",
      "혜리   80   80   40  100\n",
      "동엽   30   50   90   40\n",
      "나래   80  100   40   50\n"
     ]
    }
   ],
   "source": [
    "#리스트를 이용해서 데이터 프레임 만들기\n",
    "df = pd.DataFrame(\n",
    "    [[100,90,100,80],\n",
    "    [80,80,40,100],\n",
    "    [30,50,90,40],\n",
    "    [80,100,40,50]],\n",
    "    index = ['기범','혜리','동엽','나래'],\n",
    "    columns = ['국어','수학','영어','음악'])\n",
    "\n",
    "print(df)"
   ]
  },
  {
   "cell_type": "code",
   "execution_count": 32,
   "id": "33adb3b6",
   "metadata": {},
   "outputs": [
    {
     "name": "stdout",
     "output_type": "stream",
     "text": [
      "     국어  수학   영어  음악\n",
      "기범  100  90  100  80\n",
      "동엽   30  50   90  40\n"
     ]
    }
   ],
   "source": [
    "df1 = df.iloc[0:3:2] # 시작 끝 간격 , 콜론을 활용해서 2개이상은 []구조임! \n",
    "print(df1)"
   ]
  },
  {
   "cell_type": "code",
   "execution_count": 34,
   "id": "cbbd7d5f",
   "metadata": {},
   "outputs": [
    {
     "name": "stdout",
     "output_type": "stream",
     "text": [
      "     국어   수학   영어   음악\n",
      "나래   80  100   40   50\n",
      "동엽   30   50   90   40\n",
      "혜리   80   80   40  100\n",
      "기범  100   90  100   80\n"
     ]
    }
   ],
   "source": [
    "df2 = df.iloc[::-1] # 기존것의 행의 역순\n",
    "print(df2)"
   ]
  },
  {
   "cell_type": "code",
   "execution_count": null,
   "id": "889fe7bf",
   "metadata": {},
   "outputs": [],
   "source": []
  }
 ],
 "metadata": {
  "kernelspec": {
   "display_name": "Python 3 (ipykernel)",
   "language": "python",
   "name": "python3"
  },
  "language_info": {
   "codemirror_mode": {
    "name": "ipython",
    "version": 3
   },
   "file_extension": ".py",
   "mimetype": "text/x-python",
   "name": "python",
   "nbconvert_exporter": "python",
   "pygments_lexer": "ipython3",
   "version": "3.9.12"
  }
 },
 "nbformat": 4,
 "nbformat_minor": 5
}
