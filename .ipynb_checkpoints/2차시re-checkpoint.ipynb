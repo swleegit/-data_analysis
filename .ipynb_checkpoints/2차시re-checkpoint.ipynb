{
 "cells": [
  {
   "cell_type": "markdown",
   "id": "0e4b4d3c",
   "metadata": {},
   "source": [
    "# numpy\n",
    "### 산술계산 패키지, 효율적인 다차원 배열 (자료구조: ndarray)\n",
    "### 고급수학기능 제공 \n",
    "### 이미지, 오디오, 텍스트, 숫자 ->모든 데이터는 숫자로 이루어진 배열\n",
    "### 빠른 처리가 필요함 : ndarray"
   ]
  },
  {
   "cell_type": "code",
   "execution_count": 1,
   "id": "85191912",
   "metadata": {},
   "outputs": [],
   "source": [
    "import numpy as np\n",
    "np_array = np.arange(1000000) #arange(시작, 끝, 단계), 다차원배열을 만든다\n",
    "python_list = list(np.arange(1000000)) #다차원 배열을 리스트화"
   ]
  },
  {
   "cell_type": "code",
   "execution_count": 6,
   "id": "f9a3583f",
   "metadata": {},
   "outputs": [
    {
     "name": "stdout",
     "output_type": "stream",
     "text": [
      "CPU times: total: 31.2 ms\n",
      "Wall time: 30 ms\n"
     ]
    }
   ],
   "source": [
    "%%time\n",
    "#구문을 실행하는데 걸리는 시간 \n",
    "for i in range(10): #10번반복, 꼭 i를 사용해야하는 것은 아님 \n",
    "    np_array = np_array * 2 #다차원 배열은 연산이 편리함. 각원소에 2씩 곱해짐. 이전 변수를 받음 "
   ]
  },
  {
   "cell_type": "code",
   "execution_count": 7,
   "id": "cbbe2618",
   "metadata": {},
   "outputs": [
    {
     "name": "stdout",
     "output_type": "stream",
     "text": [
      "CPU times: total: 1.81 s\n",
      "Wall time: 1.8 s\n"
     ]
    }
   ],
   "source": [
    "%%time\n",
    "for i in range(10):\n",
    "    python_list = [x * 2 for x in python_list] #기존리스트의 원소를 바꾸고 싶다면 읽기와 쓰기를 동시에 \n",
    "                                                #리스트의 원소에 개별적으로 접근하는 방법\n",
    "        "
   ]
  },
  {
   "cell_type": "markdown",
   "id": "92c87ce3",
   "metadata": {},
   "source": [
    "# ndarray 생성 "
   ]
  },
  {
   "cell_type": "code",
   "execution_count": 8,
   "id": "a2d8c059",
   "metadata": {},
   "outputs": [
    {
     "data": {
      "text/plain": [
       "array([1, 2, 3, 4, 5])"
      ]
     },
     "execution_count": 8,
     "metadata": {},
     "output_type": "execute_result"
    }
   ],
   "source": [
    "data1 = [1,2,3,4,5]\n",
    "array1 = np.array(data1) #np.arange : 다차원 배열 바로 만들어짐, np.array : 리스트를 다차원 배열로 만듬 \n",
    "array1"
   ]
  },
  {
   "cell_type": "code",
   "execution_count": 9,
   "id": "f0f431bf",
   "metadata": {},
   "outputs": [],
   "source": [
    "data2 = [\n",
    "    [1,2,3,4],\n",
    "    [5,6,7,8],\n",
    "    [10.1,10.2,10.3,10.5]\n",
    "] #리스트로 2차원 배열을 만드는 방법[[],[],[]]"
   ]
  },
  {
   "cell_type": "code",
   "execution_count": 10,
   "id": "70ffbef3",
   "metadata": {},
   "outputs": [
    {
     "data": {
      "text/plain": [
       "array([[ 1. ,  2. ,  3. ,  4. ],\n",
       "       [ 5. ,  6. ,  7. ,  8. ],\n",
       "       [10.1, 10.2, 10.3, 10.5]])"
      ]
     },
     "execution_count": 10,
     "metadata": {},
     "output_type": "execute_result"
    }
   ],
   "source": [
    "array2 = np.array(data2)\n",
    "array2"
   ]
  },
  {
   "cell_type": "code",
   "execution_count": 11,
   "id": "ef8c0a7f",
   "metadata": {},
   "outputs": [
    {
     "data": {
      "text/plain": [
       "2"
      ]
     },
     "execution_count": 11,
     "metadata": {},
     "output_type": "execute_result"
    }
   ],
   "source": [
    "array2.ndim #다차원배열(ndarray)자료구조의 메쏘드"
   ]
  },
  {
   "cell_type": "code",
   "execution_count": 12,
   "id": "3970c595",
   "metadata": {},
   "outputs": [
    {
     "data": {
      "text/plain": [
       "(3, 4)"
      ]
     },
     "execution_count": 12,
     "metadata": {},
     "output_type": "execute_result"
    }
   ],
   "source": [
    "array2.shape"
   ]
  },
  {
   "cell_type": "code",
   "execution_count": 13,
   "id": "98b12b57",
   "metadata": {},
   "outputs": [
    {
     "data": {
      "text/plain": [
       "dtype('float64')"
      ]
     },
     "execution_count": 13,
     "metadata": {},
     "output_type": "execute_result"
    }
   ],
   "source": [
    "array1.dtype #자료형 파악, 한개라도 float면 float64\n",
    "array2.dtype "
   ]
  },
  {
   "cell_type": "code",
   "execution_count": 16,
   "id": "239cbe4b",
   "metadata": {},
   "outputs": [
    {
     "data": {
      "text/plain": [
       "array([0., 0., 0., 0., 0., 0., 0., 0., 0., 0.])"
      ]
     },
     "execution_count": 16,
     "metadata": {},
     "output_type": "execute_result"
    }
   ],
   "source": [
    "np.zeros(10)\n"
   ]
  },
  {
   "cell_type": "code",
   "execution_count": 17,
   "id": "f23f8dbf",
   "metadata": {},
   "outputs": [
    {
     "data": {
      "text/plain": [
       "array([[0., 0., 0., 0., 0.],\n",
       "       [0., 0., 0., 0., 0.],\n",
       "       [0., 0., 0., 0., 0.],\n",
       "       [0., 0., 0., 0., 0.]])"
      ]
     },
     "execution_count": 17,
     "metadata": {},
     "output_type": "execute_result"
    }
   ],
   "source": [
    "np.zeros((4,5))\n",
    "#np.ones"
   ]
  },
  {
   "cell_type": "code",
   "execution_count": 18,
   "id": "616ef846",
   "metadata": {},
   "outputs": [
    {
     "data": {
      "text/plain": [
       "array([[1., 0., 0., 0., 0.],\n",
       "       [0., 1., 0., 0., 0.],\n",
       "       [0., 0., 1., 0., 0.],\n",
       "       [0., 0., 0., 1., 0.],\n",
       "       [0., 0., 0., 0., 1.]])"
      ]
     },
     "execution_count": 18,
     "metadata": {},
     "output_type": "execute_result"
    }
   ],
   "source": [
    "np.eye(5)"
   ]
  },
  {
   "cell_type": "markdown",
   "id": "60d7dce9",
   "metadata": {},
   "source": [
    "# numpy 데이터 타입"
   ]
  },
  {
   "cell_type": "code",
   "execution_count": 19,
   "id": "00066a4f",
   "metadata": {},
   "outputs": [],
   "source": [
    "array1 = np.array([1,2,3], dtype = np.float64) #자료형은 float로 만든다. "
   ]
  },
  {
   "cell_type": "code",
   "execution_count": 20,
   "id": "3a2555d3",
   "metadata": {},
   "outputs": [
    {
     "data": {
      "text/plain": [
       "array([1., 2., 3.])"
      ]
     },
     "execution_count": 20,
     "metadata": {},
     "output_type": "execute_result"
    }
   ],
   "source": [
    "array1"
   ]
  },
  {
   "cell_type": "code",
   "execution_count": 21,
   "id": "199ee862",
   "metadata": {},
   "outputs": [
    {
     "data": {
      "text/plain": [
       "dtype('float64')"
      ]
     },
     "execution_count": 21,
     "metadata": {},
     "output_type": "execute_result"
    }
   ],
   "source": [
    "array1.dtype"
   ]
  },
  {
   "cell_type": "code",
   "execution_count": 22,
   "id": "696e966f",
   "metadata": {},
   "outputs": [
    {
     "data": {
      "text/plain": [
       "array([1, 2, 3])"
      ]
     },
     "execution_count": 22,
     "metadata": {},
     "output_type": "execute_result"
    }
   ],
   "source": [
    "int_array = np.array([1,2,3])\n",
    "int_array"
   ]
  },
  {
   "cell_type": "code",
   "execution_count": 23,
   "id": "a7dc788e",
   "metadata": {},
   "outputs": [],
   "source": [
    "float_array = int_array.astype(np.float64) #기존에 다차원 배열의 자료형을 바꿀 수 있음."
   ]
  },
  {
   "cell_type": "code",
   "execution_count": 24,
   "id": "2372be4e",
   "metadata": {},
   "outputs": [
    {
     "data": {
      "text/plain": [
       "array([1., 2., 3.])"
      ]
     },
     "execution_count": 24,
     "metadata": {},
     "output_type": "execute_result"
    }
   ],
   "source": [
    "float_array"
   ]
  },
  {
   "cell_type": "code",
   "execution_count": 25,
   "id": "82820d7e",
   "metadata": {},
   "outputs": [
    {
     "data": {
      "text/plain": [
       "array([1, 2, 3])"
      ]
     },
     "execution_count": 25,
     "metadata": {},
     "output_type": "execute_result"
    }
   ],
   "source": [
    "int_array"
   ]
  },
  {
   "cell_type": "code",
   "execution_count": 26,
   "id": "e29042b1",
   "metadata": {},
   "outputs": [],
   "source": [
    "string_array = np.array(['1.0','2.0','3.0']) #다차원 배열의 자료형은 정수, 실수, 문자, 불 모두 가능함 "
   ]
  },
  {
   "cell_type": "code",
   "execution_count": 27,
   "id": "9cebeb27",
   "metadata": {},
   "outputs": [
    {
     "data": {
      "text/plain": [
       "array(['1.0', '2.0', '3.0'], dtype='<U3')"
      ]
     },
     "execution_count": 27,
     "metadata": {},
     "output_type": "execute_result"
    }
   ],
   "source": [
    "string_array"
   ]
  },
  {
   "cell_type": "code",
   "execution_count": 28,
   "id": "f6e0fa61",
   "metadata": {},
   "outputs": [
    {
     "data": {
      "text/plain": [
       "array([1., 2., 3.])"
      ]
     },
     "execution_count": 28,
     "metadata": {},
     "output_type": "execute_result"
    }
   ],
   "source": [
    "float1_array = string_array.astype(np.float64)\n",
    "float1_array"
   ]
  },
  {
   "cell_type": "markdown",
   "id": "3292b5b4",
   "metadata": {},
   "source": [
    "# ndarray의 산술연산\n",
    "### for문을 작성하지 않고 일괄처리 가능함. 같은 크기의 배열간의 연산은 각 원소 단위로 대응되어 적용됨 "
   ]
  },
  {
   "cell_type": "code",
   "execution_count": 31,
   "id": "b040edbf",
   "metadata": {},
   "outputs": [],
   "source": [
    "array = np.array([\n",
    "    [1,2,3],\n",
    "    [4,5,6]])"
   ]
  },
  {
   "cell_type": "code",
   "execution_count": 32,
   "id": "b2866d38",
   "metadata": {},
   "outputs": [
    {
     "data": {
      "text/plain": [
       "array([[1, 2, 3],\n",
       "       [4, 5, 6]])"
      ]
     },
     "execution_count": 32,
     "metadata": {},
     "output_type": "execute_result"
    }
   ],
   "source": [
    "array"
   ]
  },
  {
   "cell_type": "code",
   "execution_count": 33,
   "id": "17c2cc0e",
   "metadata": {},
   "outputs": [
    {
     "data": {
      "text/plain": [
       "array([[ 1,  4,  9],\n",
       "       [16, 25, 36]])"
      ]
     },
     "execution_count": 33,
     "metadata": {},
     "output_type": "execute_result"
    }
   ],
   "source": [
    "array * array"
   ]
  },
  {
   "cell_type": "code",
   "execution_count": 34,
   "id": "b5d1ab36",
   "metadata": {},
   "outputs": [
    {
     "data": {
      "text/plain": [
       "array([[ 2,  4,  6],\n",
       "       [ 8, 10, 12]])"
      ]
     },
     "execution_count": 34,
     "metadata": {},
     "output_type": "execute_result"
    }
   ],
   "source": [
    "array + array"
   ]
  },
  {
   "cell_type": "code",
   "execution_count": 35,
   "id": "57f0a84c",
   "metadata": {},
   "outputs": [
    {
     "data": {
      "text/plain": [
       "array([[11, 12, 13],\n",
       "       [14, 15, 16]])"
      ]
     },
     "execution_count": 35,
     "metadata": {},
     "output_type": "execute_result"
    }
   ],
   "source": [
    "array + 10"
   ]
  },
  {
   "cell_type": "code",
   "execution_count": 36,
   "id": "e93cacea",
   "metadata": {},
   "outputs": [
    {
     "data": {
      "text/plain": [
       "array([[0.5, 1. , 1.5],\n",
       "       [2. , 2.5, 3. ]])"
      ]
     },
     "execution_count": 36,
     "metadata": {},
     "output_type": "execute_result"
    }
   ],
   "source": [
    "array /2"
   ]
  },
  {
   "cell_type": "code",
   "execution_count": 37,
   "id": "52cf88e4",
   "metadata": {},
   "outputs": [
    {
     "data": {
      "text/plain": [
       "array([[  1,   8,  27],\n",
       "       [ 64, 125, 216]], dtype=int32)"
      ]
     },
     "execution_count": 37,
     "metadata": {},
     "output_type": "execute_result"
    }
   ],
   "source": [
    "array **3"
   ]
  },
  {
   "cell_type": "markdown",
   "id": "c6449694",
   "metadata": {},
   "source": [
    "## 크기가 다른 배열간의 연산 \n",
    "### 크기가 다른 배열간의 연산의 경우, 두 배열간의 차원의 크기가 중요함\n",
    "### 차원의 크기가 맞으면(행 또는 열) numpy가 알아서 차원의 크기에 맞게 연산함 \n",
    "### 크기가 다르다면 ValueError 발생시킴 "
   ]
  },
  {
   "cell_type": "code",
   "execution_count": 38,
   "id": "9b4eb4cc",
   "metadata": {},
   "outputs": [],
   "source": [
    "array1 = np.array([[1,2,3],\n",
    "                   [4,5,6]])\n",
    "array2 = np.array([7,8,9])"
   ]
  },
  {
   "cell_type": "code",
   "execution_count": 40,
   "id": "b36450ca",
   "metadata": {},
   "outputs": [
    {
     "data": {
      "text/plain": [
       "((2, 3), (3,))"
      ]
     },
     "execution_count": 40,
     "metadata": {},
     "output_type": "execute_result"
    }
   ],
   "source": [
    "array1.shape , array2.shape #행의 크기는 달라도 열의 크기가 같음 "
   ]
  },
  {
   "cell_type": "code",
   "execution_count": 41,
   "id": "b4a7c816",
   "metadata": {},
   "outputs": [
    {
     "data": {
      "text/plain": [
       "array([[ 8, 10, 12],\n",
       "       [11, 13, 15]])"
      ]
     },
     "execution_count": 41,
     "metadata": {},
     "output_type": "execute_result"
    }
   ],
   "source": [
    "array1 + array2"
   ]
  },
  {
   "cell_type": "code",
   "execution_count": 42,
   "id": "4f04e53c",
   "metadata": {},
   "outputs": [
    {
     "data": {
      "text/plain": [
       "array([[ 7, 16, 27],\n",
       "       [28, 40, 54]])"
      ]
     },
     "execution_count": 42,
     "metadata": {},
     "output_type": "execute_result"
    }
   ],
   "source": [
    "array1 * array2"
   ]
  },
  {
   "cell_type": "markdown",
   "id": "57b2b89a",
   "metadata": {},
   "source": [
    "# 색인, 슬라이스 기초"
   ]
  },
  {
   "cell_type": "code",
   "execution_count": 43,
   "id": "9426a5be",
   "metadata": {},
   "outputs": [
    {
     "data": {
      "text/plain": [
       "array([0, 1, 2, 3, 4, 5, 6, 7, 8, 9])"
      ]
     },
     "execution_count": 43,
     "metadata": {},
     "output_type": "execute_result"
    }
   ],
   "source": [
    "array = np.arange(10)\n",
    "array"
   ]
  },
  {
   "cell_type": "code",
   "execution_count": 44,
   "id": "4e2b415e",
   "metadata": {},
   "outputs": [
    {
     "data": {
      "text/plain": [
       "4"
      ]
     },
     "execution_count": 44,
     "metadata": {},
     "output_type": "execute_result"
    }
   ],
   "source": [
    "array[4]"
   ]
  },
  {
   "cell_type": "code",
   "execution_count": 45,
   "id": "f0eafa87",
   "metadata": {},
   "outputs": [
    {
     "data": {
      "text/plain": [
       "array([3, 4, 5, 6, 7])"
      ]
     },
     "execution_count": 45,
     "metadata": {},
     "output_type": "execute_result"
    }
   ],
   "source": [
    "array[3:8]"
   ]
  },
  {
   "cell_type": "code",
   "execution_count": 46,
   "id": "3332c3bb",
   "metadata": {},
   "outputs": [
    {
     "data": {
      "text/plain": [
       "array([ 0,  1,  2, 10, 10, 10, 10, 10,  8,  9])"
      ]
     },
     "execution_count": 46,
     "metadata": {},
     "output_type": "execute_result"
    }
   ],
   "source": [
    "array[3:8] = 10 #해당 index의 모든 원소를 10으로 변경한다\n",
    "array"
   ]
  },
  {
   "cell_type": "code",
   "execution_count": 47,
   "id": "6338c173",
   "metadata": {},
   "outputs": [],
   "source": [
    "array_slice = array[3:8]"
   ]
  },
  {
   "cell_type": "code",
   "execution_count": 48,
   "id": "10663180",
   "metadata": {},
   "outputs": [
    {
     "data": {
      "text/plain": [
       "array([10, 10, 10, 10, 10])"
      ]
     },
     "execution_count": 48,
     "metadata": {},
     "output_type": "execute_result"
    }
   ],
   "source": [
    "array_slice"
   ]
  },
  {
   "cell_type": "code",
   "execution_count": 49,
   "id": "38169462",
   "metadata": {},
   "outputs": [],
   "source": [
    "array_slice[:] = 99  #[:]전부를 의미한다 "
   ]
  },
  {
   "cell_type": "code",
   "execution_count": 50,
   "id": "85ccaac3",
   "metadata": {},
   "outputs": [
    {
     "data": {
      "text/plain": [
       "array([99, 99, 99, 99, 99])"
      ]
     },
     "execution_count": 50,
     "metadata": {},
     "output_type": "execute_result"
    }
   ],
   "source": [
    "array_slice"
   ]
  },
  {
   "cell_type": "code",
   "execution_count": 51,
   "id": "b0fead49",
   "metadata": {},
   "outputs": [
    {
     "data": {
      "text/plain": [
       "array([ 0,  1,  2, 99, 99, 99, 99, 99,  8,  9])"
      ]
     },
     "execution_count": 51,
     "metadata": {},
     "output_type": "execute_result"
    }
   ],
   "source": [
    "array #복사한 다차원 배열은 원본과 연결되어 있어서 한곳을 바꾸면 다른 곳도 바뀐다. "
   ]
  },
  {
   "cell_type": "code",
   "execution_count": 52,
   "id": "637706dc",
   "metadata": {},
   "outputs": [],
   "source": [
    "array[3:8] = 100"
   ]
  },
  {
   "cell_type": "code",
   "execution_count": 53,
   "id": "e3bb82af",
   "metadata": {},
   "outputs": [
    {
     "data": {
      "text/plain": [
       "array([100, 100, 100, 100, 100])"
      ]
     },
     "execution_count": 53,
     "metadata": {},
     "output_type": "execute_result"
    }
   ],
   "source": [
    "array_slice"
   ]
  },
  {
   "cell_type": "markdown",
   "id": "5483671a",
   "metadata": {},
   "source": [
    "# ndarray 개별원소 접근\n",
    "### d차원 배열의 개별원소에 접근하기 위해서는 []를 d개 사용해야함."
   ]
  },
  {
   "cell_type": "code",
   "execution_count": 54,
   "id": "660887cb",
   "metadata": {},
   "outputs": [
    {
     "data": {
      "text/plain": [
       "array([[ 0,  1,  2,  3],\n",
       "       [ 4,  5,  6,  7],\n",
       "       [ 8,  9, 10, 11],\n",
       "       [12, 13, 14, 15],\n",
       "       [16, 17, 18, 19],\n",
       "       [20, 21, 22, 23],\n",
       "       [24, 25, 26, 27],\n",
       "       [28, 29, 30, 31]])"
      ]
     },
     "execution_count": 54,
     "metadata": {},
     "output_type": "execute_result"
    }
   ],
   "source": [
    "array = np.arange(32).reshape(8,4)\n",
    "array"
   ]
  },
  {
   "cell_type": "code",
   "execution_count": 55,
   "id": "881ef3c0",
   "metadata": {},
   "outputs": [
    {
     "data": {
      "text/plain": [
       "10"
      ]
     },
     "execution_count": 55,
     "metadata": {},
     "output_type": "execute_result"
    }
   ],
   "source": [
    "array[2][2]  #2행 2열 원소 "
   ]
  },
  {
   "cell_type": "code",
   "execution_count": 56,
   "id": "d037f647",
   "metadata": {},
   "outputs": [
    {
     "data": {
      "text/plain": [
       "10"
      ]
     },
     "execution_count": 56,
     "metadata": {},
     "output_type": "execute_result"
    }
   ],
   "source": [
    "array[2,2] #위의 코드와 같은 의미 "
   ]
  },
  {
   "cell_type": "code",
   "execution_count": 57,
   "id": "88a06236",
   "metadata": {},
   "outputs": [
    {
     "data": {
      "text/plain": [
       "array([ 2,  6, 10, 14, 18, 22, 26, 30])"
      ]
     },
     "execution_count": 57,
     "metadata": {},
     "output_type": "execute_result"
    }
   ],
   "source": [
    "array[:,2]"
   ]
  },
  {
   "cell_type": "code",
   "execution_count": 58,
   "id": "3f52f177",
   "metadata": {},
   "outputs": [
    {
     "data": {
      "text/plain": [
       "array([[[ 0,  1,  2,  3],\n",
       "        [ 4,  5,  6,  7]],\n",
       "\n",
       "       [[ 8,  9, 10, 11],\n",
       "        [12, 13, 14, 15]],\n",
       "\n",
       "       [[16, 17, 18, 19],\n",
       "        [20, 21, 22, 23]],\n",
       "\n",
       "       [[24, 25, 26, 27],\n",
       "        [28, 29, 30, 31]]])"
      ]
     },
     "execution_count": 58,
     "metadata": {},
     "output_type": "execute_result"
    }
   ],
   "source": [
    "array1 = np.arange(32).reshape(4,2,4)\n",
    "array1"
   ]
  },
  {
   "cell_type": "code",
   "execution_count": 60,
   "id": "3a0e3144",
   "metadata": {},
   "outputs": [
    {
     "data": {
      "text/plain": [
       "array([ 9, 13])"
      ]
     },
     "execution_count": 60,
     "metadata": {},
     "output_type": "execute_result"
    }
   ],
   "source": [
    "#9와 13을 뽑고 싶다면\n",
    "array1[1,:,1]"
   ]
  },
  {
   "cell_type": "code",
   "execution_count": 64,
   "id": "8c3b4c35",
   "metadata": {},
   "outputs": [
    {
     "data": {
      "text/plain": [
       "array([[ 0,  1,  2,  3],\n",
       "       [ 4,  5,  6,  7],\n",
       "       [ 8,  9, 10, 11],\n",
       "       [12, 13, 14, 15],\n",
       "       [16, 17, 18, 19],\n",
       "       [20, 21, 22, 23],\n",
       "       [24, 25, 26, 27],\n",
       "       [28, 29, 30, 31]])"
      ]
     },
     "execution_count": 64,
     "metadata": {},
     "output_type": "execute_result"
    }
   ],
   "source": [
    "array = np.arange(32).reshape(8,4)\n",
    "array"
   ]
  },
  {
   "cell_type": "code",
   "execution_count": 66,
   "id": "95758181",
   "metadata": {},
   "outputs": [
    {
     "data": {
      "text/plain": [
       "array([[ 0,  4,  8, 12, 16, 20, 24, 28],\n",
       "       [ 1,  5,  9, 13, 17, 21, 25, 29],\n",
       "       [ 2,  6, 10, 14, 18, 22, 26, 30],\n",
       "       [ 3,  7, 11, 15, 19, 23, 27, 31]])"
      ]
     },
     "execution_count": 66,
     "metadata": {},
     "output_type": "execute_result"
    }
   ],
   "source": [
    "array.T #1,2차원 배열에서 전치는 T 이고 행과열을 바꾼다는 의미 "
   ]
  },
  {
   "cell_type": "code",
   "execution_count": 67,
   "id": "c1d44cf1",
   "metadata": {},
   "outputs": [
    {
     "data": {
      "text/plain": [
       "array([[[ 0,  1,  2,  3],\n",
       "        [ 4,  5,  6,  7],\n",
       "        [ 8,  9, 10, 11],\n",
       "        [12, 13, 14, 15]],\n",
       "\n",
       "       [[16, 17, 18, 19],\n",
       "        [20, 21, 22, 23],\n",
       "        [24, 25, 26, 27],\n",
       "        [28, 29, 30, 31]]])"
      ]
     },
     "execution_count": 67,
     "metadata": {},
     "output_type": "execute_result"
    }
   ],
   "source": [
    "#3차원 이상에서 전치는 transpose로 차원을 뒤바꾸는 개념 \n",
    "array1 = np.arange(32).reshape(2,4,4)\n",
    "array1"
   ]
  },
  {
   "cell_type": "code",
   "execution_count": 68,
   "id": "88298fbc",
   "metadata": {},
   "outputs": [
    {
     "data": {
      "text/plain": [
       "array([[[ 0,  1,  2,  3],\n",
       "        [16, 17, 18, 19]],\n",
       "\n",
       "       [[ 4,  5,  6,  7],\n",
       "        [20, 21, 22, 23]],\n",
       "\n",
       "       [[ 8,  9, 10, 11],\n",
       "        [24, 25, 26, 27]],\n",
       "\n",
       "       [[12, 13, 14, 15],\n",
       "        [28, 29, 30, 31]]])"
      ]
     },
     "execution_count": 68,
     "metadata": {},
     "output_type": "execute_result"
    }
   ],
   "source": [
    "transpose_array = array1.transpose(1,0,2) #axis1 : 행 : 4->2 axis0 2->4, axis2: 열 4->4\n",
    "transpose_array"
   ]
  },
  {
   "cell_type": "markdown",
   "id": "d9939441",
   "metadata": {},
   "source": [
    "# 유니버셜 메소드\n",
    "### 하나이상의 ndarray를 인자로 받아서 연산을 수행하는 numpy 제공 메소드"
   ]
  },
  {
   "cell_type": "code",
   "execution_count": 69,
   "id": "0945c468",
   "metadata": {},
   "outputs": [],
   "source": [
    "array = np.arange(10,20)"
   ]
  },
  {
   "cell_type": "code",
   "execution_count": 70,
   "id": "b51bffe0",
   "metadata": {},
   "outputs": [
    {
     "data": {
      "text/plain": [
       "array([10, 11, 12, 13, 14, 15, 16, 17, 18, 19])"
      ]
     },
     "execution_count": 70,
     "metadata": {},
     "output_type": "execute_result"
    }
   ],
   "source": [
    "array"
   ]
  },
  {
   "cell_type": "code",
   "execution_count": 71,
   "id": "b9da453e",
   "metadata": {},
   "outputs": [
    {
     "data": {
      "text/plain": [
       "array([100, 121, 144, 169, 196, 225, 256, 289, 324, 361], dtype=int32)"
      ]
     },
     "execution_count": 71,
     "metadata": {},
     "output_type": "execute_result"
    }
   ],
   "source": [
    "np.square(array) #다차원 배열의 각 원소를 제곱한다."
   ]
  },
  {
   "cell_type": "code",
   "execution_count": 72,
   "id": "a39a7ece",
   "metadata": {},
   "outputs": [
    {
     "data": {
      "text/plain": [
       "array([3.16227766, 3.31662479, 3.46410162, 3.60555128, 3.74165739,\n",
       "       3.87298335, 4.        , 4.12310563, 4.24264069, 4.35889894])"
      ]
     },
     "execution_count": 72,
     "metadata": {},
     "output_type": "execute_result"
    }
   ],
   "source": [
    "np.sqrt(array)"
   ]
  },
  {
   "cell_type": "code",
   "execution_count": 73,
   "id": "af7f2455",
   "metadata": {},
   "outputs": [
    {
     "data": {
      "text/plain": [
       "array([1.        , 1.04139269, 1.07918125, 1.11394335, 1.14612804,\n",
       "       1.17609126, 1.20411998, 1.23044892, 1.25527251, 1.2787536 ])"
      ]
     },
     "execution_count": 73,
     "metadata": {},
     "output_type": "execute_result"
    }
   ],
   "source": [
    "np.log10(array)"
   ]
  },
  {
   "cell_type": "code",
   "execution_count": 74,
   "id": "e9fa39cb",
   "metadata": {},
   "outputs": [],
   "source": [
    "array = np.array([0.2,0.4,0.6,0.8,1.0])"
   ]
  },
  {
   "cell_type": "code",
   "execution_count": 75,
   "id": "93bfb82b",
   "metadata": {},
   "outputs": [
    {
     "data": {
      "text/plain": [
       "array([1., 1., 1., 1., 1.])"
      ]
     },
     "execution_count": 75,
     "metadata": {},
     "output_type": "execute_result"
    }
   ],
   "source": [
    "np.ceil(array) #올림 "
   ]
  },
  {
   "cell_type": "code",
   "execution_count": 76,
   "id": "7ccd7aca",
   "metadata": {},
   "outputs": [
    {
     "data": {
      "text/plain": [
       "array([0., 0., 1., 1., 1.])"
      ]
     },
     "execution_count": 76,
     "metadata": {},
     "output_type": "execute_result"
    }
   ],
   "source": [
    "np.round(array) #반올림 "
   ]
  },
  {
   "cell_type": "markdown",
   "id": "e20574ad",
   "metadata": {},
   "source": [
    "### 2개 이상의 다차원 배열을 인자로 받는 유니버셜 메소드"
   ]
  },
  {
   "cell_type": "code",
   "execution_count": 77,
   "id": "3d934929",
   "metadata": {},
   "outputs": [],
   "source": [
    "array1 = np.arange(10)\n",
    "array2 = np.arange(10,20)"
   ]
  },
  {
   "cell_type": "code",
   "execution_count": 79,
   "id": "ea6462d9",
   "metadata": {},
   "outputs": [
    {
     "data": {
      "text/plain": [
       "array([10, 12, 14, 16, 18, 20, 22, 24, 26, 28])"
      ]
     },
     "execution_count": 79,
     "metadata": {},
     "output_type": "execute_result"
    }
   ],
   "source": [
    "np.add(array1, array2)\n",
    "#add, subtract, multiply, divide, "
   ]
  },
  {
   "cell_type": "code",
   "execution_count": 85,
   "id": "677bb009",
   "metadata": {},
   "outputs": [],
   "source": [
    "array1 = np.array([1,20,30,11,23,80,401,1,1,1])"
   ]
  },
  {
   "cell_type": "code",
   "execution_count": 86,
   "id": "3c7cdd18",
   "metadata": {},
   "outputs": [
    {
     "data": {
      "text/plain": [
       "array([ 10,  20,  30,  13,  23,  80, 401,  17,  18,  19])"
      ]
     },
     "execution_count": 86,
     "metadata": {},
     "output_type": "execute_result"
    }
   ],
   "source": [
    "np.maximum(array1,array2) #두개의 다차원 배열의 원소를 각각 비교하고 각 경우 큰것을 선택하여 새로운 다차원 배열을 만든다."
   ]
  },
  {
   "cell_type": "code",
   "execution_count": 87,
   "id": "597aa988",
   "metadata": {},
   "outputs": [
    {
     "data": {
      "text/plain": [
       "array([          1, -1220542464,   403968000,  -234981317,   929076081,\n",
       "                 0, -1241771775,           1,           1,           1],\n",
       "      dtype=int32)"
      ]
     },
     "execution_count": 87,
     "metadata": {},
     "output_type": "execute_result"
    }
   ],
   "source": [
    "np.power(array1, array2) #밑이 array1의 원소이고 지수가 array2"
   ]
  },
  {
   "cell_type": "markdown",
   "id": "d005393e",
   "metadata": {},
   "source": [
    "## numpy 조건절 사용"
   ]
  },
  {
   "cell_type": "code",
   "execution_count": 88,
   "id": "74825215",
   "metadata": {},
   "outputs": [],
   "source": [
    "array1 = np.array([1,-1,-2,3,1,2,-3])\n",
    "array2 = np.array([1,3,2,1,-1,2,-3])"
   ]
  },
  {
   "cell_type": "code",
   "execution_count": 89,
   "id": "140efed1",
   "metadata": {},
   "outputs": [],
   "source": [
    "cond1 = array1 > 0 #다차원 배열과 대소기호 -> 결과값 boolen\n",
    "cond2 = array2 > 0"
   ]
  },
  {
   "cell_type": "code",
   "execution_count": 90,
   "id": "171fe4c1",
   "metadata": {},
   "outputs": [
    {
     "data": {
      "text/plain": [
       "array([ True, False, False,  True,  True,  True, False])"
      ]
     },
     "execution_count": 90,
     "metadata": {},
     "output_type": "execute_result"
    }
   ],
   "source": [
    "cond1"
   ]
  },
  {
   "cell_type": "code",
   "execution_count": 91,
   "id": "0c7fa857",
   "metadata": {},
   "outputs": [
    {
     "data": {
      "text/plain": [
       "array([ True,  True,  True,  True, False,  True, False])"
      ]
     },
     "execution_count": 91,
     "metadata": {},
     "output_type": "execute_result"
    }
   ],
   "source": [
    "cond2"
   ]
  },
  {
   "cell_type": "code",
   "execution_count": 92,
   "id": "8001c276",
   "metadata": {},
   "outputs": [],
   "source": [
    "new_array = np.where(array1>0, 1, -1) #np.where(조건(결과값이 boolen), 참일때 값, 거짓일때 값)"
   ]
  },
  {
   "cell_type": "code",
   "execution_count": 93,
   "id": "f4c47260",
   "metadata": {},
   "outputs": [
    {
     "data": {
      "text/plain": [
       "array([ 1, -1, -1,  1,  1,  1, -1])"
      ]
     },
     "execution_count": 93,
     "metadata": {},
     "output_type": "execute_result"
    }
   ],
   "source": [
    "new_array"
   ]
  },
  {
   "cell_type": "code",
   "execution_count": 95,
   "id": "917d2ec9",
   "metadata": {},
   "outputs": [],
   "source": [
    "new_array = np.where(array1>1, array1, array2)"
   ]
  },
  {
   "cell_type": "code",
   "execution_count": 96,
   "id": "5fc8ebec",
   "metadata": {},
   "outputs": [
    {
     "data": {
      "text/plain": [
       "array([ 1,  3,  2,  3, -1,  2, -3])"
      ]
     },
     "execution_count": 96,
     "metadata": {},
     "output_type": "execute_result"
    }
   ],
   "source": [
    "new_array"
   ]
  },
  {
   "cell_type": "markdown",
   "id": "37db6779",
   "metadata": {},
   "source": [
    "# 수학/통계 메소드\n",
    "### ndarray의 전체 또는 축을 따라서 수학/통계 연산을 수행하는 메소드\n",
    "### axis를 인자로 받으면 해당 축을 기준으로 연산을 수행한다. "
   ]
  },
  {
   "cell_type": "code",
   "execution_count": 97,
   "id": "9f1e05c3",
   "metadata": {},
   "outputs": [],
   "source": [
    "array = np.arange(32).reshape(8,4)"
   ]
  },
  {
   "cell_type": "code",
   "execution_count": 98,
   "id": "b0db8fff",
   "metadata": {},
   "outputs": [
    {
     "data": {
      "text/plain": [
       "array([[ 0,  1,  2,  3],\n",
       "       [ 4,  5,  6,  7],\n",
       "       [ 8,  9, 10, 11],\n",
       "       [12, 13, 14, 15],\n",
       "       [16, 17, 18, 19],\n",
       "       [20, 21, 22, 23],\n",
       "       [24, 25, 26, 27],\n",
       "       [28, 29, 30, 31]])"
      ]
     },
     "execution_count": 98,
     "metadata": {},
     "output_type": "execute_result"
    }
   ],
   "source": [
    "array"
   ]
  },
  {
   "cell_type": "code",
   "execution_count": 99,
   "id": "7de8472d",
   "metadata": {},
   "outputs": [
    {
     "data": {
      "text/plain": [
       "496"
      ]
     },
     "execution_count": 99,
     "metadata": {},
     "output_type": "execute_result"
    }
   ],
   "source": [
    "array.sum() #다차원 배열 자료구조의 메소드 \n",
    "            #mean,max,min,argmax,argmin : arg~ index반환 "
   ]
  },
  {
   "cell_type": "code",
   "execution_count": 100,
   "id": "4c1446a2",
   "metadata": {},
   "outputs": [
    {
     "data": {
      "text/plain": [
       "array([112, 120, 128, 136])"
      ]
     },
     "execution_count": 100,
     "metadata": {},
     "output_type": "execute_result"
    }
   ],
   "source": [
    "array.sum(axis=0) #행이 아니라 열기준 합 "
   ]
  },
  {
   "cell_type": "code",
   "execution_count": 101,
   "id": "fe00124b",
   "metadata": {},
   "outputs": [
    {
     "data": {
      "text/plain": [
       "array([  6,  22,  38,  54,  70,  86, 102, 118])"
      ]
     },
     "execution_count": 101,
     "metadata": {},
     "output_type": "execute_result"
    }
   ],
   "source": [
    "array.sum(axis=1) "
   ]
  },
  {
   "cell_type": "markdown",
   "id": "8cc2e1ea",
   "metadata": {},
   "source": [
    "# numpy 정렬 \n",
    "### sort 메소드를 사용해 정렬, 새로운 배열을 반환하는 것이 아닌 해당 배열의 순서를 바꾼다. "
   ]
  },
  {
   "cell_type": "code",
   "execution_count": 102,
   "id": "d8a5d001",
   "metadata": {},
   "outputs": [],
   "source": [
    "array = np.random.randn(10) #10개의 난수 반환 "
   ]
  },
  {
   "cell_type": "code",
   "execution_count": 103,
   "id": "94b1cec5",
   "metadata": {},
   "outputs": [
    {
     "data": {
      "text/plain": [
       "array([-0.13919751,  0.07217332, -0.37724171, -1.40950615, -0.09089841,\n",
       "       -0.2516636 ,  0.3326676 ,  0.86651502, -0.46529155, -2.24899564])"
      ]
     },
     "execution_count": 103,
     "metadata": {},
     "output_type": "execute_result"
    }
   ],
   "source": [
    "array"
   ]
  },
  {
   "cell_type": "code",
   "execution_count": 105,
   "id": "1c93684c",
   "metadata": {},
   "outputs": [],
   "source": [
    "array.sort() #오름차순 "
   ]
  },
  {
   "cell_type": "code",
   "execution_count": 106,
   "id": "5c7d2734",
   "metadata": {},
   "outputs": [
    {
     "data": {
      "text/plain": [
       "array([-2.24899564, -1.40950615, -0.46529155, -0.37724171, -0.2516636 ,\n",
       "       -0.13919751, -0.09089841,  0.07217332,  0.3326676 ,  0.86651502])"
      ]
     },
     "execution_count": 106,
     "metadata": {},
     "output_type": "execute_result"
    }
   ],
   "source": [
    "array"
   ]
  },
  {
   "cell_type": "code",
   "execution_count": 107,
   "id": "88631577",
   "metadata": {},
   "outputs": [],
   "source": [
    "reverse_array = array[::-1] #내림차순, 내림차순을 하고 싶다면 sort()한다음에 그것에 [::-1]"
   ]
  },
  {
   "cell_type": "code",
   "execution_count": 108,
   "id": "a1325eb4",
   "metadata": {},
   "outputs": [
    {
     "data": {
      "text/plain": [
       "array([ 0.86651502,  0.3326676 ,  0.07217332, -0.09089841, -0.13919751,\n",
       "       -0.2516636 , -0.37724171, -0.46529155, -1.40950615, -2.24899564])"
      ]
     },
     "execution_count": 108,
     "metadata": {},
     "output_type": "execute_result"
    }
   ],
   "source": [
    "reverse_array"
   ]
  },
  {
   "cell_type": "code",
   "execution_count": 109,
   "id": "58f70809",
   "metadata": {},
   "outputs": [],
   "source": [
    "array = np.random.randn(5,3)"
   ]
  },
  {
   "cell_type": "code",
   "execution_count": 110,
   "id": "66598008",
   "metadata": {},
   "outputs": [
    {
     "data": {
      "text/plain": [
       "array([[-1.05076486,  0.03449687,  0.20060273],\n",
       "       [-0.87834318, -0.11974275, -1.49126521],\n",
       "       [ 1.54636047, -2.37133073,  0.60719581],\n",
       "       [ 0.60452162, -1.93112282,  1.05442128],\n",
       "       [ 0.56716972, -1.49035214, -1.53586187]])"
      ]
     },
     "execution_count": 110,
     "metadata": {},
     "output_type": "execute_result"
    }
   ],
   "source": [
    "array"
   ]
  },
  {
   "cell_type": "code",
   "execution_count": 111,
   "id": "13c06fef",
   "metadata": {},
   "outputs": [],
   "source": [
    "array.sort(axis=0) #열을 기준으로 오름차순정렬"
   ]
  },
  {
   "cell_type": "code",
   "execution_count": 112,
   "id": "ce81b72c",
   "metadata": {},
   "outputs": [
    {
     "data": {
      "text/plain": [
       "array([[-1.05076486, -2.37133073, -1.53586187],\n",
       "       [-0.87834318, -1.93112282, -1.49126521],\n",
       "       [ 0.56716972, -1.49035214,  0.20060273],\n",
       "       [ 0.60452162, -0.11974275,  0.60719581],\n",
       "       [ 1.54636047,  0.03449687,  1.05442128]])"
      ]
     },
     "execution_count": 112,
     "metadata": {},
     "output_type": "execute_result"
    }
   ],
   "source": [
    "array"
   ]
  },
  {
   "cell_type": "code",
   "execution_count": 113,
   "id": "9953b6bf",
   "metadata": {},
   "outputs": [],
   "source": [
    "array.sort(axis=1)"
   ]
  },
  {
   "cell_type": "code",
   "execution_count": 114,
   "id": "545f9506",
   "metadata": {},
   "outputs": [
    {
     "data": {
      "text/plain": [
       "array([[-2.37133073, -1.53586187, -1.05076486],\n",
       "       [-1.93112282, -1.49126521, -0.87834318],\n",
       "       [-1.49035214,  0.20060273,  0.56716972],\n",
       "       [-0.11974275,  0.60452162,  0.60719581],\n",
       "       [ 0.03449687,  1.05442128,  1.54636047]])"
      ]
     },
     "execution_count": 114,
     "metadata": {},
     "output_type": "execute_result"
    }
   ],
   "source": [
    "array"
   ]
  },
  {
   "cell_type": "markdown",
   "id": "07188687",
   "metadata": {},
   "source": [
    "# 집합메소드"
   ]
  },
  {
   "cell_type": "code",
   "execution_count": 115,
   "id": "b144650f",
   "metadata": {},
   "outputs": [],
   "source": [
    "#np.unique(다차원배열) 해당 다차원 배열에서 중복되는 원소는 제거하고 유일한 원소만 살려서 다차원 배열을 새로 만듬 \n",
    "                       #'a' 'a' 'b' --> 'a' 'b'"
   ]
  },
  {
   "cell_type": "code",
   "execution_count": 116,
   "id": "2a467022",
   "metadata": {},
   "outputs": [],
   "source": [
    "array1 = np.arange(10)\n",
    "array2 = np.arange(5,15)"
   ]
  },
  {
   "cell_type": "code",
   "execution_count": 117,
   "id": "8f6d32d4",
   "metadata": {},
   "outputs": [
    {
     "data": {
      "text/plain": [
       "array([False, False, False, False, False,  True,  True,  True,  True,\n",
       "        True])"
      ]
     },
     "execution_count": 117,
     "metadata": {},
     "output_type": "execute_result"
    }
   ],
   "source": [
    "np.in1d(array1, array2) # array1의 원소가 array2에 있니? 위치는 상관없고 있다면 해당위치에 True를 반환한다."
   ]
  },
  {
   "cell_type": "markdown",
   "id": "c8122e94",
   "metadata": {},
   "source": [
    "# 행렬 연산 메소드"
   ]
  },
  {
   "cell_type": "code",
   "execution_count": 118,
   "id": "e2f0237c",
   "metadata": {},
   "outputs": [],
   "source": [
    "array = np.arange(8).reshape(4,2)"
   ]
  },
  {
   "cell_type": "code",
   "execution_count": 119,
   "id": "27e07c26",
   "metadata": {},
   "outputs": [],
   "source": [
    "array_transpose = array.T"
   ]
  },
  {
   "cell_type": "code",
   "execution_count": 120,
   "id": "3c32fe1d",
   "metadata": {},
   "outputs": [
    {
     "data": {
      "text/plain": [
       "array([[0, 1],\n",
       "       [2, 3],\n",
       "       [4, 5],\n",
       "       [6, 7]])"
      ]
     },
     "execution_count": 120,
     "metadata": {},
     "output_type": "execute_result"
    }
   ],
   "source": [
    "array"
   ]
  },
  {
   "cell_type": "code",
   "execution_count": 121,
   "id": "72ce8182",
   "metadata": {},
   "outputs": [
    {
     "data": {
      "text/plain": [
       "array([[0, 2, 4, 6],\n",
       "       [1, 3, 5, 7]])"
      ]
     },
     "execution_count": 121,
     "metadata": {},
     "output_type": "execute_result"
    }
   ],
   "source": [
    "array_transpose"
   ]
  },
  {
   "cell_type": "code",
   "execution_count": 122,
   "id": "6b34a94a",
   "metadata": {},
   "outputs": [
    {
     "data": {
      "text/plain": [
       "array([[ 1,  3,  5,  7],\n",
       "       [ 3, 13, 23, 33],\n",
       "       [ 5, 23, 41, 59],\n",
       "       [ 7, 33, 59, 85]])"
      ]
     },
     "execution_count": 122,
     "metadata": {},
     "output_type": "execute_result"
    }
   ],
   "source": [
    "np.dot(array,array_transpose) #외적을 의미함, 차원이 맞아야한다. 수학에서 규칙이 똑같이 적용된다."
   ]
  },
  {
   "cell_type": "markdown",
   "id": "76f79770",
   "metadata": {},
   "source": [
    "# 정리\n",
    "### numpy, 다차원배열(ndarray)\n",
    "### np.array(리스트), np.arange(시작, 끝, 단계).reshape(크기)\n",
    "### np.zeros, np.ones, np.eye\n",
    "### np.array([], dtype = np.float64)\n",
    "### array2=array1.astype(np.float64)\n",
    "### array1 + array2 ( + - / *)\n",
    "### array1 +10 - / * **\n",
    "### array1.ndim, shape\n",
    "### 색인 \n",
    "### array1.T, array1.transpose(축)\n",
    "### 유니버셜 메소드(인자가 다차원 배열)\n",
    "### np.square, sqrt, log10, ceil, round\n",
    "### np.add,subtract, multiply,divide,maximum,minimum,power\n",
    "### cond1 = array1 > 0\n",
    "### np.where(array1 > 0, 1, -1)\n",
    "### array1.sum,mean,min,max,argmin,argmax(axis= ~)\n",
    "### array1 = np.random.randn(3,4)\n",
    "### array1.sort()(axis= )\n",
    "### array1[::-1]\n",
    "### np.unique(배열)\n",
    "### np.in1d(배열1, 배열2)\n",
    "### np.dot(배열1, 배열2)\n"
   ]
  },
  {
   "cell_type": "code",
   "execution_count": null,
   "id": "e61a8091",
   "metadata": {},
   "outputs": [],
   "source": []
  }
 ],
 "metadata": {
  "kernelspec": {
   "display_name": "Python 3 (ipykernel)",
   "language": "python",
   "name": "python3"
  },
  "language_info": {
   "codemirror_mode": {
    "name": "ipython",
    "version": 3
   },
   "file_extension": ".py",
   "mimetype": "text/x-python",
   "name": "python",
   "nbconvert_exporter": "python",
   "pygments_lexer": "ipython3",
   "version": "3.9.12"
  }
 },
 "nbformat": 4,
 "nbformat_minor": 5
}
