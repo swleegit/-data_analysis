{
 "cells": [
  {
   "cell_type": "markdown",
   "id": "3f8100a8",
   "metadata": {},
   "source": [
    "# 시리즈"
   ]
  },
  {
   "cell_type": "markdown",
   "id": "dccdb79f",
   "metadata": {},
   "source": [
    "#### 딕셔너리로 시리즈 만들기, pd.Series(딕셔너리)\n",
    "#### 리스트로 시리즈 만들기, pd.Series(리스트, index = 리스트)\n",
    "#### 시리즈.index\n",
    "#### 시리즈.values\n",
    "#### 시리즈 원소 선택: 시리즈[인덱스 또는 key], 시리즈[[인덱스(키)1,인덱스(키)2]], 시리즈[인덱스(키)1 : 인덱스(키)2]"
   ]
  },
  {
   "cell_type": "markdown",
   "id": "3aa2934a",
   "metadata": {},
   "source": [
    "# 데이터프레임\n",
    "#### 딕셔너리로 데이터 프레임 만들기, pd.DataFrame(딕셔너리, index = 리스트) , 딕셔너리 key는 columns를 의미한다.\n",
    "#### 리스트로 데이터 프레임 만들기, pd.DataFrame(행렬구조로 리스트(내용)[[  ],[  ]], index = 리스트, columns = 리스트)\n",
    "#### 행렬이름 설정 df.index = [리스트] df.columns = [리스트]\n",
    "#### 행렬이름 설정 df.rename(index = {전 : 후})\n",
    "#### 행선택 df.loc[[두개를 , 로 구분]] key로, df.iloc[[두개를 ,로 구분]] index로\n",
    "#### df.iloc[시작 : 끝 : 단계]\n",
    "#### 열 선택 df[ ], df[[ ]] 두개이상\n",
    "#### 행과열 그 교집합에 접근하고 싶은 경우 loc 또는 iloc을 사용한다. 인자는 [행, 열]이런식으로 사용 \n"
   ]
  },
  {
   "cell_type": "markdown",
   "id": "f354a964",
   "metadata": {},
   "source": [
    "# 데이터프레임 조작\n",
    "#### 행추가, df.loc['새로운 행이름'] = [열수에 맞는 데이터]\n",
    "#### 위에 있던 행 중복 추가, df.loc['새로운 행이름 추가'] = ['위의 행이름']\n",
    "#### 만약 딕셔너리로 데이터프레임을 만들고 인덱스에 별다른 조치를 취하지 않았다면 행의 이름 = index\n",
    "#### 따라서 이런 경우 그냥 df.loc[index] 해도 ok\n",
    "\n",
    "#### 열추가, df['새로운 열이름'] = [행수에 맞는 데이터, 또는 단일 수치(all)]\n",
    "#### 기존 열의 이름으로 하면 대체됨 \n",
    "\n",
    "#### 행삭제, drop메소드를 사용하여 해당 이름의 행을 삭제함 axis = 0 \n",
    "#### 앞서 선언된 데이터프레임을 복사하기 위해서 df2 = df[:]\n",
    "#### df2.drop('행이름', axis = 0 , inplace = True)\n",
    "#### df2.drop(['행이름1', '행이름2'], axis = 0 , inplace = True), 2개 이상인 경우에는 리스트 형식으로 인자를 기입\n",
    "#### axis = 1을 하면 열 \n",
    "\n",
    "#### 원소값 변경, df.loc[행, 열] = 새로운 값 , or iloc 활용, 핵심은  []형식이라는점\n",
    "\n",
    "#### 행열 위치변경하기 2차원 배열이기 때문에 df.T 또는 df.transpose\n",
    "\n",
    "#### index의 순서대로 정렬 : key값 자체의 오름 내림차순임! \n",
    "#### df1= df.sort_index(ascending=False) 내림차순 \n",
    "\n",
    "#### value로도 오름, 내림차순이 가능함 \n",
    "#### idf = df.sort_values(by = 'col4', ascending = True)\n",
    "#### col4 라는 이름을 가진열을 기준으로 오름차순으로 정렬함\n"
   ]
  },
  {
   "cell_type": "code",
   "execution_count": null,
   "id": "5c03157f",
   "metadata": {},
   "outputs": [],
   "source": []
  }
 ],
 "metadata": {
  "kernelspec": {
   "display_name": "Python 3 (ipykernel)",
   "language": "python",
   "name": "python3"
  },
  "language_info": {
   "codemirror_mode": {
    "name": "ipython",
    "version": 3
   },
   "file_extension": ".py",
   "mimetype": "text/x-python",
   "name": "python",
   "nbconvert_exporter": "python",
   "pygments_lexer": "ipython3",
   "version": "3.9.12"
  }
 },
 "nbformat": 4,
 "nbformat_minor": 5
}
