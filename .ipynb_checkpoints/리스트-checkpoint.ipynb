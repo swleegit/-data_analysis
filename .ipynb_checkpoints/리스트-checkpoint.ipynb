{
 "cells": [
  {
   "cell_type": "markdown",
   "id": "787dfa3e",
   "metadata": {},
   "source": [
    "# 리스트\n",
    "## 리스트\n",
    "### 여러개의 변수를 순차적으로 담을 수 있는 자료구조\n",
    "### []를 이용하거나 list()를 이용하여 선언\n",
    "### 파이썬은 다양한 자료형을 하나의 리스트에 담을 수 있음"
   ]
  },
  {
   "cell_type": "code",
   "execution_count": 1,
   "id": "77a6d747",
   "metadata": {},
   "outputs": [],
   "source": [
    "a_list = [1,2,3,4]"
   ]
  },
  {
   "cell_type": "code",
   "execution_count": 3,
   "id": "4a7525d6",
   "metadata": {},
   "outputs": [
    {
     "data": {
      "text/plain": [
       "[1, 2, 3, 4]"
      ]
     },
     "execution_count": 3,
     "metadata": {},
     "output_type": "execute_result"
    }
   ],
   "source": [
    "a_list"
   ]
  },
  {
   "cell_type": "code",
   "execution_count": 4,
   "id": "75f5d7f6",
   "metadata": {},
   "outputs": [
    {
     "data": {
      "text/plain": [
       "['a', 'b', 3, 4]"
      ]
     },
     "execution_count": 4,
     "metadata": {},
     "output_type": "execute_result"
    }
   ],
   "source": [
    "tup = ('a','b', 3, 4)\n",
    "tup_list = list(tup)\n",
    "tup_list #tuple->list 자료구조 변경"
   ]
  },
  {
   "cell_type": "code",
   "execution_count": 5,
   "id": "53e8c135",
   "metadata": {},
   "outputs": [
    {
     "data": {
      "text/plain": [
       "['a', 'b', 10, 4]"
      ]
     },
     "execution_count": 5,
     "metadata": {},
     "output_type": "execute_result"
    }
   ],
   "source": [
    "tup_list[2] = 10 #tuple과 다르게 list는 원소를 변경할 수 있다.\n",
    "tup_list"
   ]
  },
  {
   "cell_type": "code",
   "execution_count": 6,
   "id": "d01eb86c",
   "metadata": {},
   "outputs": [
    {
     "data": {
      "text/plain": [
       "range(0, 10)"
      ]
     },
     "execution_count": 6,
     "metadata": {},
     "output_type": "execute_result"
    }
   ],
   "source": [
    "gen = range(0,10)\n",
    "gen"
   ]
  },
  {
   "cell_type": "code",
   "execution_count": 7,
   "id": "7e2fd5fa",
   "metadata": {},
   "outputs": [
    {
     "data": {
      "text/plain": [
       "[0, 1, 2, 3, 4, 5, 6, 7, 8, 9]"
      ]
     },
     "execution_count": 7,
     "metadata": {},
     "output_type": "execute_result"
    }
   ],
   "source": [
    "gen_list = list(gen)\n",
    "gen_list #규칙이 있는 수의 나열을 리스트로 만들고 싶다면 range를 활용하자. range(시작, 단계, 끝)"
   ]
  },
  {
   "cell_type": "markdown",
   "id": "6c30ec79",
   "metadata": {},
   "source": [
    "## 리스트의 연산"
   ]
  },
  {
   "cell_type": "code",
   "execution_count": 13,
   "id": "a65f9d92",
   "metadata": {},
   "outputs": [
    {
     "data": {
      "text/plain": [
       "['apple', 'banana', 'cat', 'dog']"
      ]
     },
     "execution_count": 13,
     "metadata": {},
     "output_type": "execute_result"
    }
   ],
   "source": [
    "#append 리스트 뒤에 원소 추가, 기존 변수 변경함\n",
    "s_list = ['apple', 'banana', 'cat']\n",
    "s_list.append('dog')\n",
    "s_list"
   ]
  },
  {
   "cell_type": "code",
   "execution_count": 14,
   "id": "899b66c2",
   "metadata": {},
   "outputs": [
    {
     "data": {
      "text/plain": [
       "['apple', 'banana', 'baby', 'cat', 'dog']"
      ]
     },
     "execution_count": 14,
     "metadata": {},
     "output_type": "execute_result"
    }
   ],
   "source": [
    "#insert 리스트 특정 위치에 원소 추가\n",
    "s_list.insert(2, 'baby')\n",
    "s_list"
   ]
  },
  {
   "cell_type": "code",
   "execution_count": 15,
   "id": "bcc150f7",
   "metadata": {},
   "outputs": [
    {
     "name": "stdout",
     "output_type": "stream",
     "text": [
      "['apple', 'banana', 'baby', 'cat', 'dog']\n"
     ]
    },
    {
     "data": {
      "text/plain": [
       "['apple', 'banana', 'cat', 'dog']"
      ]
     },
     "execution_count": 15,
     "metadata": {},
     "output_type": "execute_result"
    }
   ],
   "source": [
    "#remove 특정원소 제거\n",
    "print(s_list)\n",
    "s_list.remove('baby')\n",
    "s_list"
   ]
  },
  {
   "cell_type": "code",
   "execution_count": 24,
   "id": "a0ec63f3",
   "metadata": {},
   "outputs": [
    {
     "name": "stdout",
     "output_type": "stream",
     "text": [
      "cat\n",
      "['apple', 'banana', 'dog']\n"
     ]
    }
   ],
   "source": [
    "#pop 특정위치 원소를 제거함\n",
    "word = s_list.pop(2) #인덱스 2 의 원소를 반환과 동시에 s_list 에서 제거함.\n",
    "print(word)\n",
    "print(s_list)"
   ]
  },
  {
   "cell_type": "code",
   "execution_count": 16,
   "id": "c76e3314",
   "metadata": {},
   "outputs": [
    {
     "data": {
      "text/plain": [
       "True"
      ]
     },
     "execution_count": 16,
     "metadata": {},
     "output_type": "execute_result"
    }
   ],
   "source": [
    "#in 리스트에 원소가 있는지를 참/ 거짓으로 반환 원소 in 리스트\n",
    "'apple' in s_list"
   ]
  },
  {
   "cell_type": "code",
   "execution_count": 17,
   "id": "6efacf19",
   "metadata": {},
   "outputs": [
    {
     "data": {
      "text/plain": [
       "False"
      ]
     },
     "execution_count": 17,
     "metadata": {},
     "output_type": "execute_result"
    }
   ],
   "source": [
    "'baby' in s_list"
   ]
  },
  {
   "cell_type": "markdown",
   "id": "df4b7df1",
   "metadata": {},
   "source": [
    "## 리스트 정렬\n",
    "### [sort(), sort(reverse=True), reverse(), sort(key=len)]"
   ]
  },
  {
   "cell_type": "code",
   "execution_count": 18,
   "id": "99d04701",
   "metadata": {},
   "outputs": [
    {
     "name": "stdout",
     "output_type": "stream",
     "text": [
      "[1, 2, 3, 6, 7, 10]\n"
     ]
    }
   ],
   "source": [
    "#sort 내림차순 정렬 , 대->소, abc...\n",
    "num_list = [7, 10, 3, 1, 2 ,6]\n",
    "num_list.sort() \n",
    "print(num_list)"
   ]
  },
  {
   "cell_type": "code",
   "execution_count": 19,
   "id": "6ebde52b",
   "metadata": {},
   "outputs": [
    {
     "name": "stdout",
     "output_type": "stream",
     "text": [
      "[10, 7, 6, 3, 2, 1]\n"
     ]
    }
   ],
   "source": [
    "num_list.sort(reverse=True)\n",
    "print(num_list)"
   ]
  },
  {
   "cell_type": "code",
   "execution_count": 20,
   "id": "693a67b6",
   "metadata": {},
   "outputs": [
    {
     "data": {
      "text/plain": [
       "[1, 2, 3, 6, 7, 10]"
      ]
     },
     "execution_count": 20,
     "metadata": {},
     "output_type": "execute_result"
    }
   ],
   "source": [
    "num_list.reverse()\n",
    "num_list"
   ]
  },
  {
   "cell_type": "code",
   "execution_count": 21,
   "id": "89156d21",
   "metadata": {},
   "outputs": [
    {
     "name": "stdout",
     "output_type": "stream",
     "text": [
      "[10, 7, 6, 3, 2, 1]\n"
     ]
    }
   ],
   "source": [
    "num_list.sort(reverse=True)\n",
    "print(num_list)"
   ]
  },
  {
   "cell_type": "code",
   "execution_count": 22,
   "id": "0f06893d",
   "metadata": {},
   "outputs": [
    {
     "name": "stdout",
     "output_type": "stream",
     "text": [
      "[10, 7, 6, 3, 2, 1]\n"
     ]
    }
   ],
   "source": [
    "num_list.sort(reverse=True)\n",
    "print(num_list)\n",
    "#reverse는 그냥 현재의 원소위치를 거꾸로 변경하는것 \n",
    "#sort(reverse=True)는 오름차순으로 정렬임. sort()의 반대"
   ]
  },
  {
   "cell_type": "code",
   "execution_count": 23,
   "id": "112431cd",
   "metadata": {},
   "outputs": [
    {
     "data": {
      "text/plain": [
       "['Him', 'Small', 'book', 'foxes', 'see', 'six']"
      ]
     },
     "execution_count": 23,
     "metadata": {},
     "output_type": "execute_result"
    }
   ],
   "source": [
    "word_list = ['see', 'Him', 'book', 'six', 'foxes', 'Small']\n",
    "word_list.sort()\n",
    "word_list #대->소, abc.."
   ]
  },
  {
   "cell_type": "code",
   "execution_count": 25,
   "id": "84eecf84",
   "metadata": {},
   "outputs": [
    {
     "data": {
      "text/plain": [
       "['Him', 'see', 'six', 'book', 'Small', 'foxes']"
      ]
     },
     "execution_count": 25,
     "metadata": {},
     "output_type": "execute_result"
    }
   ],
   "source": [
    "word_list.sort(key=len) #정렬의 기준값을 key를 이용해서 사용자가 정의할 수 있음 \n",
    "word_list#글자갯수 크기대로 배열함. 이처럼 list는 다양한 연산이 가능함"
   ]
  },
  {
   "cell_type": "markdown",
   "id": "e706e1cb",
   "metadata": {},
   "source": [
    "## 리스트 슬라이싱"
   ]
  },
  {
   "cell_type": "code",
   "execution_count": 26,
   "id": "7e0b4b06",
   "metadata": {},
   "outputs": [
    {
     "data": {
      "text/plain": [
       "[10, 3, 1, 2]"
      ]
     },
     "execution_count": 26,
     "metadata": {},
     "output_type": "execute_result"
    }
   ],
   "source": [
    "#리스트의 위치값을 활용하여 특정 원소들을 잘라내서 추출하는 것\n",
    "#:을 사용하여 범위를 지정할 수 있음.\n",
    "#zero base, 이상 미만\n",
    "num_list = [7,10,3,1,2,6,1,2]\n",
    "num_list[1:5]"
   ]
  },
  {
   "cell_type": "code",
   "execution_count": 27,
   "id": "42050440",
   "metadata": {},
   "outputs": [
    {
     "data": {
      "text/plain": [
       "[7, 10, 3, 9, 7, 2, 6, 1, 2]"
      ]
     },
     "execution_count": 27,
     "metadata": {},
     "output_type": "execute_result"
    }
   ],
   "source": [
    "num_list[3:4] = [9,7] #4번째 원소인 1을 9와 7로 대체함. 리스트에서 어떤 원소를 대체하고 싶을 때 이런 방법 사용한다. \n",
    "num_list"
   ]
  },
  {
   "cell_type": "code",
   "execution_count": 28,
   "id": "b3525c2c",
   "metadata": {},
   "outputs": [
    {
     "name": "stdout",
     "output_type": "stream",
     "text": [
      "[7, 2, 6, 1, 2]\n",
      "[7, 10, 3, 9, 7]\n"
     ]
    }
   ],
   "source": [
    "print(num_list[4:])\n",
    "print(num_list[:5])"
   ]
  },
  {
   "cell_type": "code",
   "execution_count": 29,
   "id": "d591416a",
   "metadata": {},
   "outputs": [
    {
     "name": "stdout",
     "output_type": "stream",
     "text": [
      "[1, 2]\n",
      "[9, 7, 2, 6]\n"
     ]
    }
   ],
   "source": [
    "print(num_list[-2:]) #1,2\n",
    "print(num_list[-6:-2]) #9,7,2,6"
   ]
  },
  {
   "cell_type": "code",
   "execution_count": null,
   "id": "08fbb410",
   "metadata": {},
   "outputs": [],
   "source": []
  }
 ],
 "metadata": {
  "kernelspec": {
   "display_name": "Python 3 (ipykernel)",
   "language": "python",
   "name": "python3"
  },
  "language_info": {
   "codemirror_mode": {
    "name": "ipython",
    "version": 3
   },
   "file_extension": ".py",
   "mimetype": "text/x-python",
   "name": "python",
   "nbconvert_exporter": "python",
   "pygments_lexer": "ipython3",
   "version": "3.9.12"
  }
 },
 "nbformat": 4,
 "nbformat_minor": 5
}
