{
 "cells": [
  {
   "cell_type": "code",
   "execution_count": 1,
   "id": "9e8e0cdd",
   "metadata": {},
   "outputs": [],
   "source": [
    "#튜플"
   ]
  },
  {
   "cell_type": "code",
   "execution_count": 5,
   "id": "3a82555b",
   "metadata": {},
   "outputs": [],
   "source": [
    "tup = 1, 2, 3 #괄호 안해도 됨. 선택사항"
   ]
  },
  {
   "cell_type": "code",
   "execution_count": 8,
   "id": "0319b979",
   "metadata": {},
   "outputs": [
    {
     "data": {
      "text/plain": [
       "3"
      ]
     },
     "execution_count": 8,
     "metadata": {},
     "output_type": "execute_result"
    }
   ],
   "source": [
    "tup[2] #튜플의 원소 호출, zero index"
   ]
  },
  {
   "cell_type": "code",
   "execution_count": 10,
   "id": "428adb49",
   "metadata": {},
   "outputs": [],
   "source": [
    "nested_tup = (1,2,3),(4,5) #튜플안 튜플 가능함. 겉의 괄호는 생략가능함, 괄호 덩어리가 한개고, 그 안에 여러 원소가 있는 구조 "
   ]
  },
  {
   "cell_type": "code",
   "execution_count": 12,
   "id": "3633dec1",
   "metadata": {},
   "outputs": [
    {
     "data": {
      "text/plain": [
       "((1, 2, 3), (4, 5))"
      ]
     },
     "execution_count": 12,
     "metadata": {},
     "output_type": "execute_result"
    }
   ],
   "source": [
    "nested_tup"
   ]
  },
  {
   "cell_type": "code",
   "execution_count": 14,
   "id": "004ab389",
   "metadata": {},
   "outputs": [
    {
     "data": {
      "text/plain": [
       "5"
      ]
     },
     "execution_count": 14,
     "metadata": {},
     "output_type": "execute_result"
    }
   ],
   "source": [
    "nested_tup[1][1] #(4,5)중에 5, [1,1]이런식으로 하면 안된다"
   ]
  },
  {
   "cell_type": "code",
   "execution_count": 15,
   "id": "93f4b302",
   "metadata": {},
   "outputs": [],
   "source": [
    "string_tup = tuple(\"string\") #tuple()리스트, set, 문자열을 '튜플'자료구조로 변경함. 문자(열)은 반드시 따옴표 사용"
   ]
  },
  {
   "cell_type": "code",
   "execution_count": 16,
   "id": "0e602fab",
   "metadata": {},
   "outputs": [
    {
     "data": {
      "text/plain": [
       "('s', 't', 'r', 'i', 'n', 'g')"
      ]
     },
     "execution_count": 16,
     "metadata": {},
     "output_type": "execute_result"
    }
   ],
   "source": [
    "string_tup #py파일을 작성하는 거라면 화면에 출력하고 싶으면 print()를 해야하지만, jupyter은 interactive python이니까 안해도 ok"
   ]
  },
  {
   "cell_type": "code",
   "execution_count": 17,
   "id": "a31d9b62",
   "metadata": {},
   "outputs": [],
   "source": [
    "#tuple은 원소 변경, 추가 불가함!, 리스트와 공통점은 원소에 순서가 있다는점, 차이점은 변경이 불가하고 그대신 처리가 빠르다는 점"
   ]
  },
  {
   "cell_type": "code",
   "execution_count": 18,
   "id": "92c760ae",
   "metadata": {},
   "outputs": [],
   "source": [
    "tup = 1,2,3"
   ]
  },
  {
   "cell_type": "code",
   "execution_count": 19,
   "id": "ca2bf3a2",
   "metadata": {},
   "outputs": [],
   "source": [
    "a,b,c = tup #변수위치 왼쪽: 쓰기(대입), 변수위치 오른쪽: 읽기\n",
    "            #변수 여러개에 각각의 값을 대입할 때 튜플의 형식으로 하면 좋다"
   ]
  },
  {
   "cell_type": "code",
   "execution_count": 20,
   "id": "e12dc942",
   "metadata": {},
   "outputs": [
    {
     "name": "stdout",
     "output_type": "stream",
     "text": [
      "1\n",
      "2\n",
      "3\n"
     ]
    }
   ],
   "source": [
    "for num in tup:\n",
    "    print(num) #c언어와 다르게 print는 자동으로 줄바꿈한다."
   ]
  },
  {
   "cell_type": "code",
   "execution_count": 21,
   "id": "77dd45af",
   "metadata": {},
   "outputs": [],
   "source": [
    "tup = (1,2,2,2,3,4,2,4,1) #원소 중복 가능(set은 중복 불가)"
   ]
  },
  {
   "cell_type": "code",
   "execution_count": 22,
   "id": "35b10ec9",
   "metadata": {},
   "outputs": [
    {
     "data": {
      "text/plain": [
       "4"
      ]
     },
     "execution_count": 22,
     "metadata": {},
     "output_type": "execute_result"
    }
   ],
   "source": [
    "tup.count(2) #2라는 원소가 몇개 있는지 반환, 튜플은 다양한 연산을 위한 자료형은 아님"
   ]
  },
  {
   "cell_type": "code",
   "execution_count": null,
   "id": "e7bb3401",
   "metadata": {},
   "outputs": [],
   "source": []
  }
 ],
 "metadata": {
  "kernelspec": {
   "display_name": "Python 3 (ipykernel)",
   "language": "python",
   "name": "python3"
  },
  "language_info": {
   "codemirror_mode": {
    "name": "ipython",
    "version": 3
   },
   "file_extension": ".py",
   "mimetype": "text/x-python",
   "name": "python",
   "nbconvert_exporter": "python",
   "pygments_lexer": "ipython3",
   "version": "3.9.12"
  }
 },
 "nbformat": 4,
 "nbformat_minor": 5
}
