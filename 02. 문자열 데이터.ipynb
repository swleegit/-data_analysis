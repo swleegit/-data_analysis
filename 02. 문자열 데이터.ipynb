{
 "cells": [
  {
   "cell_type": "markdown",
   "metadata": {},
   "source": [
    "# 문자열 다루기"
   ]
  },
  {
   "cell_type": "markdown",
   "metadata": {},
   "source": [
    "## 문자열 추출하기"
   ]
  },
  {
   "cell_type": "code",
   "execution_count": null,
   "metadata": {},
   "outputs": [],
   "source": [
    "# 문자열 추출하기\n",
    "\n",
    "word1 = 'python'\n",
    "word2 = 'data analysis'"
   ]
  },
  {
   "cell_type": "code",
   "execution_count": null,
   "metadata": {},
   "outputs": [],
   "source": [
    "print(word1[0])"
   ]
  },
  {
   "cell_type": "code",
   "execution_count": null,
   "metadata": {},
   "outputs": [],
   "source": [
    "print(word2[0])"
   ]
  },
  {
   "cell_type": "code",
   "execution_count": null,
   "metadata": {},
   "outputs": [],
   "source": [
    "print(word1[0:4])"
   ]
  },
  {
   "cell_type": "code",
   "execution_count": null,
   "metadata": {},
   "outputs": [],
   "source": [
    "print(word2[-1])"
   ]
  },
  {
   "cell_type": "code",
   "execution_count": null,
   "metadata": {},
   "outputs": [],
   "source": [
    "print(word2[-4:-1])"
   ]
  },
  {
   "cell_type": "code",
   "execution_count": null,
   "metadata": {},
   "outputs": [],
   "source": [
    "word1 = 'python'\n",
    "word2 = 'data analysis'"
   ]
  },
  {
   "cell_type": "code",
   "execution_count": null,
   "metadata": {},
   "outputs": [],
   "source": [
    "print(len(word1))"
   ]
  },
  {
   "cell_type": "code",
   "execution_count": null,
   "metadata": {},
   "outputs": [],
   "source": [
    "print(len(word2))"
   ]
  },
  {
   "cell_type": "code",
   "execution_count": null,
   "metadata": {},
   "outputs": [],
   "source": [
    "print(word1[:4])"
   ]
  },
  {
   "cell_type": "code",
   "execution_count": null,
   "metadata": {},
   "outputs": [],
   "source": [
    "print(word1[2:6])"
   ]
  },
  {
   "cell_type": "code",
   "execution_count": null,
   "metadata": {},
   "outputs": [],
   "source": [
    "print(word2[:])"
   ]
  },
  {
   "cell_type": "code",
   "execution_count": null,
   "metadata": {},
   "outputs": [],
   "source": [
    "print(word2[::2])"
   ]
  },
  {
   "cell_type": "markdown",
   "metadata": {},
   "source": [
    "## 문자열 메소드 활용하기"
   ]
  },
  {
   "cell_type": "code",
   "execution_count": null,
   "metadata": {},
   "outputs": [],
   "source": [
    "# 문자열 메소드\n",
    "\n",
    "word = 'Big Data Analysis'"
   ]
  },
  {
   "cell_type": "code",
   "execution_count": null,
   "metadata": {},
   "outputs": [],
   "source": [
    "print(word.lower())"
   ]
  },
  {
   "cell_type": "code",
   "execution_count": null,
   "metadata": {},
   "outputs": [],
   "source": [
    "print(word.upper())"
   ]
  },
  {
   "cell_type": "code",
   "execution_count": null,
   "metadata": {},
   "outputs": [],
   "source": [
    "print(word.count('a'))"
   ]
  },
  {
   "cell_type": "code",
   "execution_count": null,
   "metadata": {},
   "outputs": [],
   "source": [
    "print(word.startswith('Big'))"
   ]
  },
  {
   "cell_type": "code",
   "execution_count": null,
   "metadata": {},
   "outputs": [],
   "source": [
    "print(word.endswith('analysis'))"
   ]
  },
  {
   "cell_type": "code",
   "execution_count": null,
   "metadata": {},
   "outputs": [],
   "source": [
    "# 문자열 메소드\n",
    "\n",
    "word1 = 'python coding'\n",
    "word2 = ' Big Data Analysis '"
   ]
  },
  {
   "cell_type": "code",
   "execution_count": null,
   "metadata": {},
   "outputs": [],
   "source": [
    "# 일치하는 문자의 첫번째 인덱스를 반환합니다\n",
    "print(word1.find('o'))"
   ]
  },
  {
   "cell_type": "code",
   "execution_count": null,
   "metadata": {},
   "outputs": [],
   "source": [
    "print(word1.isalpha())"
   ]
  },
  {
   "cell_type": "code",
   "execution_count": null,
   "metadata": {},
   "outputs": [],
   "source": [
    "# 공백을 구분자로 문자열을 나눕니다\n",
    "print(word1.split(' '))"
   ]
  },
  {
   "cell_type": "code",
   "execution_count": null,
   "metadata": {},
   "outputs": [],
   "source": [
    "# 앞뒤 공백을 제거합니다\n",
    "print(word2.strip())"
   ]
  },
  {
   "cell_type": "markdown",
   "metadata": {},
   "source": [
    "### 문자열 메소드 (join)"
   ]
  },
  {
   "cell_type": "code",
   "execution_count": null,
   "metadata": {},
   "outputs": [],
   "source": [
    "word1 = 'kpu'\n",
    "word2 = 'digital'\n",
    "word3 = 'data'\n",
    "\n",
    "vocab1 = '1st'\n",
    "vocab2 = 'class'\n",
    "\n",
    "# 공백을 사용해서 여러개의 문자열을 하나로 합치기\n",
    "sentense = ' '.join([word1, word2, word3, vocab1, vocab2])\n",
    "print(sentense)\n",
    "\n",
    "comma_sentense = ','.join([word1, word2, word3, vocab1, vocab2])\n",
    "print(comma_sentense)"
   ]
  },
  {
   "cell_type": "markdown",
   "metadata": {},
   "source": [
    "### 문자열 메소드 (splitlines)"
   ]
  },
  {
   "cell_type": "code",
   "execution_count": null,
   "metadata": {},
   "outputs": [],
   "source": [
    "multi_line_string = \"\"\"맑고 포근한 봄 날씨가 이어지고 있습니다.\n",
    "하지만 내일은 전국에 강풍을 동반한 요란한 비가 내릴 것으로 보여 주의가 필요합니다.\n",
    "자세한 날씨, 기상캐스터 연결해 알아봅니다. 홍나실 캐스터!\n",
    "오늘은 봄기운이 완연하다고요?\n",
    "\"\"\"\n",
    "multi_line_split = multi_line_string.splitlines()\n",
    "multi_line_split"
   ]
  },
  {
   "cell_type": "code",
   "execution_count": null,
   "metadata": {},
   "outputs": [],
   "source": [
    "# 개별 라인별로 문자열을 조작하기\n",
    "for line in multi_line_split:\n",
    "    print(line[:20])"
   ]
  },
  {
   "cell_type": "markdown",
   "metadata": {},
   "source": [
    "### 문자열 메소드 (replace)"
   ]
  },
  {
   "cell_type": "code",
   "execution_count": null,
   "metadata": {},
   "outputs": [],
   "source": [
    "multi_line_string = \"\"\"맑고 포근한 봄 날씨가 이어지고 있습니다.\n",
    "하지만 내일은 전국에 강풍을 동반한 요란한 비가 내릴 것으로 보여 주의가 필요합니다.\n",
    "자세한 날씨, 기상캐스터 연결해 알아봅니다. 홍나실 캐스터!\n",
    "오늘은 봄기운이 완연하다고요?\n",
    "\"\"\"\n",
    "replace_and_split = multi_line_string.replace(\".\", \"\") \\\n",
    "                                     .replace(\"!\", \"\") \\\n",
    "                                     .replace(\",\", \"\").splitlines()"
   ]
  },
  {
   "cell_type": "code",
   "execution_count": null,
   "metadata": {},
   "outputs": [],
   "source": [
    "replace_and_split"
   ]
  },
  {
   "cell_type": "markdown",
   "metadata": {},
   "source": [
    "# 문자열 포매팅하기"
   ]
  },
  {
   "cell_type": "markdown",
   "metadata": {},
   "source": [
    "## 문자열 format"
   ]
  },
  {
   "cell_type": "code",
   "execution_count": null,
   "metadata": {},
   "outputs": [],
   "source": [
    "name = '김진수'\n",
    "sentense = '안녕하세요, 제 이름은 {}입니다.'\n",
    "\n",
    "print(sentense.format(name))"
   ]
  },
  {
   "cell_type": "code",
   "execution_count": null,
   "metadata": {},
   "outputs": [],
   "source": [
    "print(sentense.format('이지원'))"
   ]
  },
  {
   "cell_type": "code",
   "execution_count": null,
   "metadata": {},
   "outputs": [],
   "source": [
    "# 인덱스를 사용한 format\n",
    "\n",
    "sentense = \"\"\"안녕하세요, 제 이름은 {0}입니다.\n",
    "저의 성별은 {1}이고, 나이는 {2}세입니다.\n",
    "\"\"\"\n",
    "\n",
    "name = '김진수'\n",
    "gender = '남자'\n",
    "age = '20'\n",
    "\n",
    "print(sentense.format(name, gender, age))"
   ]
  },
  {
   "cell_type": "code",
   "execution_count": null,
   "metadata": {},
   "outputs": [],
   "source": [
    "print(sentense.format('이지원', '여자', '30'))"
   ]
  },
  {
   "cell_type": "code",
   "execution_count": null,
   "metadata": {},
   "outputs": [],
   "source": [
    "# 변수명을 사용한 문자열 format\n",
    "\n",
    "sentense = \"\"\"안녕하세요, 제 이름은 {name}입니다.\n",
    "저의 성별은 {gender}이고, 나이는 {age}세입니다.\n",
    "\"\"\"\n",
    "\n",
    "_name = '김진수'\n",
    "_gender = '남자'\n",
    "_age = '20'\n",
    "\n",
    "print(sentense.format(name=_name, gender=_gender, age=_age))"
   ]
  },
  {
   "cell_type": "code",
   "execution_count": null,
   "metadata": {
    "scrolled": true
   },
   "outputs": [],
   "source": [
    "print(sentense.format(name='이지원', gender='여자', age='30'))"
   ]
  },
  {
   "cell_type": "markdown",
   "metadata": {},
   "source": [
    "## 숫자 데이터 format"
   ]
  },
  {
   "cell_type": "code",
   "execution_count": null,
   "metadata": {},
   "outputs": [],
   "source": [
    "sentense = '현재 온도는 {}도 입니다.'\n",
    "\n",
    "print(sentense.format(20.14))"
   ]
  },
  {
   "cell_type": "code",
   "execution_count": null,
   "metadata": {},
   "outputs": [],
   "source": [
    "sentense = '2020년 A 회사의 매출은 {:,}원입니다.'\n",
    "\n",
    "print(sentense.format(12040000))"
   ]
  },
  {
   "cell_type": "code",
   "execution_count": null,
   "metadata": {},
   "outputs": [],
   "source": [
    "sentense = '현재 우리 제품의 불량률은 {0:.4}이며, 퍼센트로 나타내면 {0:.5%}입니다.'\n",
    "\n",
    "print(sentense.format(0.007414123))"
   ]
  },
  {
   "cell_type": "code",
   "execution_count": null,
   "metadata": {},
   "outputs": [],
   "source": [
    "sentense = '당신의 사번은 {0:05d}입니다.'\n",
    "\n",
    "print(sentense.format(142))"
   ]
  },
  {
   "cell_type": "markdown",
   "metadata": {},
   "source": [
    "## % 연산자로 format"
   ]
  },
  {
   "cell_type": "code",
   "execution_count": null,
   "metadata": {},
   "outputs": [],
   "source": [
    "sentense = '당신의 이름은 %s입니다.' % '이지원'\n",
    "\n",
    "print(sentense)"
   ]
  },
  {
   "cell_type": "code",
   "execution_count": null,
   "metadata": {},
   "outputs": [],
   "source": [
    "sentense = '당신의 나이는 %d세입니다.' % 30\n",
    "\n",
    "print(sentense)"
   ]
  },
  {
   "cell_type": "code",
   "execution_count": null,
   "metadata": {},
   "outputs": [],
   "source": [
    "sentense = '당신의 이름은 %s이고, 점수는 %.2f점입니다.' % ('이지원', 90.155)\n",
    "\n",
    "print(sentense)"
   ]
  },
  {
   "cell_type": "markdown",
   "metadata": {},
   "source": [
    "## f-strings format"
   ]
  },
  {
   "cell_type": "code",
   "execution_count": null,
   "metadata": {},
   "outputs": [],
   "source": [
    "name = '이지원'\n",
    "sentense1 = f'내 이름은 {name}입니다.'\n",
    "\n",
    "print(sentense1)"
   ]
  },
  {
   "cell_type": "code",
   "execution_count": null,
   "metadata": {},
   "outputs": [],
   "source": [
    "lat = '10.323'\n",
    "lon = '79.124'\n",
    "sentense2 = f'현재 위도는 {lat}, 경도는 {lon}입니다.'\n",
    "\n",
    "print(sentense2)"
   ]
  },
  {
   "cell_type": "markdown",
   "metadata": {},
   "source": [
    "# 정규표현식 사용하기"
   ]
  },
  {
   "cell_type": "markdown",
   "metadata": {},
   "source": [
    "## match"
   ]
  },
  {
   "cell_type": "code",
   "execution_count": null,
   "metadata": {},
   "outputs": [],
   "source": [
    "import re\n",
    "\n",
    "number = '123 4567 890'"
   ]
  },
  {
   "cell_type": "code",
   "execution_count": null,
   "metadata": {},
   "outputs": [],
   "source": [
    "match = re.match('[0-9]{3}', number)\n",
    "print(match)"
   ]
  },
  {
   "cell_type": "code",
   "execution_count": null,
   "metadata": {},
   "outputs": [],
   "source": [
    "match = re.match('[0-9]{10}', number)\n",
    "print(match)"
   ]
  },
  {
   "cell_type": "code",
   "execution_count": null,
   "metadata": {},
   "outputs": [],
   "source": [
    "match = re.match('(\\d+)\\s(\\d+)\\s(\\d+)', number)\n",
    "print(match)"
   ]
  },
  {
   "cell_type": "markdown",
   "metadata": {},
   "source": [
    "## findall"
   ]
  },
  {
   "cell_type": "code",
   "execution_count": null,
   "metadata": {},
   "outputs": [],
   "source": [
    "import re\n",
    "\n",
    "number = '123 4567 890'"
   ]
  },
  {
   "cell_type": "code",
   "execution_count": null,
   "metadata": {},
   "outputs": [],
   "source": [
    "regex_list = re.findall('[0-9]{3}', number)\n",
    "print(regex_list)"
   ]
  },
  {
   "cell_type": "code",
   "execution_count": null,
   "metadata": {},
   "outputs": [],
   "source": [
    "regex_list = re.findall('\\d{3,4}', number)\n",
    "print(regex_list)"
   ]
  },
  {
   "cell_type": "code",
   "execution_count": null,
   "metadata": {},
   "outputs": [],
   "source": [
    "regex_list = re.findall('^abc', number)\n",
    "print(regex_list)"
   ]
  }
 ],
 "metadata": {
  "kernelspec": {
   "display_name": "Python 3",
   "language": "python",
   "name": "python3"
  },
  "language_info": {
   "codemirror_mode": {
    "name": "ipython",
    "version": 3
   },
   "file_extension": ".py",
   "mimetype": "text/x-python",
   "name": "python",
   "nbconvert_exporter": "python",
   "pygments_lexer": "ipython3",
   "version": "3.7.6"
  }
 },
 "nbformat": 4,
 "nbformat_minor": 4
}
