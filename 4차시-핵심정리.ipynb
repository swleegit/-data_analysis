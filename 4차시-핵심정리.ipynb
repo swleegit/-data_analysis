{
 "cells": [
  {
   "cell_type": "markdown",
   "id": "a6157dfa",
   "metadata": {},
   "source": [
    "# 시리즈 연산\n",
    "#### series_new = series + 1 (* / -), 각 value에 계산\n",
    "#### 시리즈끼리 연산 가능함, 같은 key를 가진 value와 연산됨 \n",
    "#### 방법1. series1 + series2 이런식 \n",
    "#### 같은 크기의 시리즈를 구성으로 데이터프레임을 만들 수 있다.\n",
    "#### df = pd.DataFrame([series1, series2, ... ] 시리즈의 키는 열이된다. \n",
    "#### 방법2. 시리즈 메소드 사용 add ,sub, mul, div , series1.add(series2)이런식을 사용\n",
    "#### 인덱스에 해당 값이 없을때, fill_value를 사용하여 산술연산을 수행한다.\n",
    "#### series1.add(series2, fill_value = 50) 만약 series2 에 1에 있는 키값이 없는 경우에는 값을 50으로 해서 계산을 수행한다는 의미\n",
    "#### 부족한 경우에 사용가능하다는 것 \n",
    "#### 서로 key의 개수는 같은데 key가 다른경우 같은 것만 해당연산을 수행하고 다른 key는 연산을 하지 않고 NaN을 값으로 반환\n",
    "\n",
    "# 데이터프레임 연산 \n",
    "#### import seaborn as sns , iris = sns.load_dataset('iris'), sns안에 iris라는 데이터 프레임이 있음 .\n",
    "#### iris.head() iris라는 데이터프레임중 상위 5개의 행만 불러온다\n",
    "#### df = iris.loc[:, [열1, 열2]] , loc[행, 열 ] 전체 행 중에서 열1과 열2의 교집합을 부른다. \n",
    "#### df = df + 1 모든 원소값에 1을 더한다는 의미 \n",
    "\n",
    "#### 행과 열의 크기가 같은 데이터 프레임간의 연산이 가능하다 . ( +행과 열의 정보도 일치한 경우)\n",
    "#### df1  + df2\n",
    "#### 크기는 같지만 행과 열의 정보가 일치하지 않는 경우도 가능하다 일치한 경우만 연산을 수행하고 나머지는 NaN을 반환 \n",
    "\n",
    "\n"
   ]
  },
  {
   "cell_type": "code",
   "execution_count": null,
   "id": "9650befb",
   "metadata": {},
   "outputs": [],
   "source": []
  }
 ],
 "metadata": {
  "kernelspec": {
   "display_name": "Python 3 (ipykernel)",
   "language": "python",
   "name": "python3"
  },
  "language_info": {
   "codemirror_mode": {
    "name": "ipython",
    "version": 3
   },
   "file_extension": ".py",
   "mimetype": "text/x-python",
   "name": "python",
   "nbconvert_exporter": "python",
   "pygments_lexer": "ipython3",
   "version": "3.9.12"
  }
 },
 "nbformat": 4,
 "nbformat_minor": 5
}
