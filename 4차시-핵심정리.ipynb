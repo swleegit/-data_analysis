{
 "cells": [
  {
   "cell_type": "markdown",
   "id": "1d6169d3",
   "metadata": {},
   "source": [
    "# 시리즈 연산\n",
    "#### series_new = series + 1 (* / -), 각 value에 계산\n",
    "#### 시리즈끼리 연산 가능함, 같은 key를 가진 value와 연산됨 \n",
    "#### 방법1. series1 + series2 이런식 \n",
    "#### 같은 크기의 시리즈를 구성으로 데이터프레임을 만들 수 있다.\n",
    "#### df = pd.DataFrame([series1, series2, ... ] 시리즈의 키는 열이된다. \n",
    "#### 방법2. 시리즈 메소드 사용 add ,sub, mul, div , series1.add(series2)이런식을 사용\n",
    "#### 인덱스에 해당 값이 없을때, fill_value를 사용하여 산술연산을 수행한다.\n",
    "#### series1.add(series2, fill_value = 50) 만약 series2 에 1에 있는 키값이 없는 경우에는 값을 50으로 해서 계산을 수행한다는 의미\n",
    "#### 부족한 경우에 사용가능하다는 것 \n",
    "#### 서로 key의 개수는 같은데 key가 다른경우 같은 것만 해당연산을 수행하고 다른 key는 연산을 하지 않고 NaN을 값으로 반환\n",
    "\n",
    "# 데이터프레임 연산 \n",
    "#### import seaborn as sns , iris = sns.load_dataset('iris'), sns안에 iris라는 데이터 프레임이 있음 .\n",
    "#### iris.head() iris라는 데이터프레임중 상위 5개의 행만 불러온다\n",
    "#### df = iris.loc[:, [열1, 열2]] , loc[행, 열 ] 전체 행 중에서 열1과 열2의 교집합을 부른다. \n",
    "#### df = df + 1 모든 원소값에 1을 더한다는 의미 \n",
    "\n",
    "#### 행과 열의 크기가 같은 데이터 프레임간의 연산이 가능하다 . ( +행과 열의 정보도 일치한 경우)\n",
    "#### df1  + df2\n",
    "#### 크기는 같지만 행과 열의 정보가 일치하지 않는 경우도 가능하다 일치한 경우만 연산을 수행하고 나머지는 NaN을 반환 \n",
    "\n",
    "\n"
   ]
  },
  {
   "cell_type": "markdown",
   "id": "e9713440",
   "metadata": {},
   "source": [
    "# 데이터프레임 정보"
   ]
  },
  {
   "cell_type": "code",
   "execution_count": 2,
   "id": "d09b7b8f",
   "metadata": {
    "scrolled": false
   },
   "outputs": [
    {
     "name": "stdout",
     "output_type": "stream",
     "text": [
      "   sepal_length  sepal_width  petal_length  petal_width species\n",
      "0           5.1          3.5           1.4          0.2  setosa\n",
      "1           4.9          3.0           1.4          0.2  setosa\n",
      "2           4.7          3.2           1.3          0.2  setosa\n",
      "3           4.6          3.1           1.5          0.2  setosa\n",
      "4           5.0          3.6           1.4          0.2  setosa\n",
      "     sepal_length  sepal_width  petal_length  petal_width    species\n",
      "145           6.7          3.0           5.2          2.3  virginica\n",
      "146           6.3          2.5           5.0          1.9  virginica\n",
      "147           6.5          3.0           5.2          2.0  virginica\n",
      "148           6.2          3.4           5.4          2.3  virginica\n",
      "149           5.9          3.0           5.1          1.8  virginica\n"
     ]
    }
   ],
   "source": [
    "import pandas as pd\n",
    "import seaborn as sns\n",
    "iris = sns.load_dataset('iris')\n",
    "print(iris.head())\n",
    "print(iris.tail())"
   ]
  },
  {
   "cell_type": "code",
   "execution_count": 3,
   "id": "078cc811",
   "metadata": {},
   "outputs": [
    {
     "data": {
      "text/plain": [
       "(150, 5)"
      ]
     },
     "execution_count": 3,
     "metadata": {},
     "output_type": "execute_result"
    }
   ],
   "source": [
    "iris.shape"
   ]
  },
  {
   "cell_type": "code",
   "execution_count": 5,
   "id": "a1079575",
   "metadata": {},
   "outputs": [
    {
     "name": "stdout",
     "output_type": "stream",
     "text": [
      "<class 'pandas.core.frame.DataFrame'>\n",
      "RangeIndex: 150 entries, 0 to 149\n",
      "Data columns (total 5 columns):\n",
      " #   Column        Non-Null Count  Dtype  \n",
      "---  ------        --------------  -----  \n",
      " 0   sepal_length  150 non-null    float64\n",
      " 1   sepal_width   150 non-null    float64\n",
      " 2   petal_length  150 non-null    float64\n",
      " 3   petal_width   150 non-null    float64\n",
      " 4   species       150 non-null    object \n",
      "dtypes: float64(4), object(1)\n",
      "memory usage: 6.0+ KB\n"
     ]
    }
   ],
   "source": [
    "iris.info() #info하고 info()는 다르다"
   ]
  },
  {
   "cell_type": "code",
   "execution_count": 7,
   "id": "421272c6",
   "metadata": {},
   "outputs": [
    {
     "name": "stdout",
     "output_type": "stream",
     "text": [
      "sepal_length    float64\n",
      "sepal_width     float64\n",
      "petal_length    float64\n",
      "petal_width     float64\n",
      "species          object\n",
      "dtype: object\n"
     ]
    }
   ],
   "source": [
    "print(iris.dtypes) #object는 문자열을 의미한다 , df.dtypes"
   ]
  },
  {
   "cell_type": "code",
   "execution_count": 8,
   "id": "6d1fdbb4",
   "metadata": {},
   "outputs": [
    {
     "name": "stdout",
     "output_type": "stream",
     "text": [
      "sepal_width data_type float64\n"
     ]
    }
   ],
   "source": [
    "print('sepal_width data_type', iris.sepal_width.dtypes) #df.열.dtypes"
   ]
  },
  {
   "cell_type": "code",
   "execution_count": 9,
   "id": "a7c9ddeb",
   "metadata": {},
   "outputs": [
    {
     "name": "stdout",
     "output_type": "stream",
     "text": [
      "       sepal_length  sepal_width  petal_length  petal_width\n",
      "count    150.000000   150.000000    150.000000   150.000000\n",
      "mean       5.843333     3.057333      3.758000     1.199333\n",
      "std        0.828066     0.435866      1.765298     0.762238\n",
      "min        4.300000     2.000000      1.000000     0.100000\n",
      "25%        5.100000     2.800000      1.600000     0.300000\n",
      "50%        5.800000     3.000000      4.350000     1.300000\n",
      "75%        6.400000     3.300000      5.100000     1.800000\n",
      "max        7.900000     4.400000      6.900000     2.500000\n"
     ]
    }
   ],
   "source": [
    "print(iris.describe()) #object 자료형을 제외한 나머지 값에 대한 갯수, 평균, 표준편차, 최소, .. 등등 "
   ]
  },
  {
   "cell_type": "code",
   "execution_count": 10,
   "id": "82236956",
   "metadata": {},
   "outputs": [
    {
     "name": "stdout",
     "output_type": "stream",
     "text": [
      "        sepal_length  sepal_width  petal_length  petal_width species\n",
      "count     150.000000   150.000000    150.000000   150.000000     150\n",
      "unique           NaN          NaN           NaN          NaN       3\n",
      "top              NaN          NaN           NaN          NaN  setosa\n",
      "freq             NaN          NaN           NaN          NaN      50\n",
      "mean        5.843333     3.057333      3.758000     1.199333     NaN\n",
      "std         0.828066     0.435866      1.765298     0.762238     NaN\n",
      "min         4.300000     2.000000      1.000000     0.100000     NaN\n",
      "25%         5.100000     2.800000      1.600000     0.300000     NaN\n",
      "50%         5.800000     3.000000      4.350000     1.300000     NaN\n",
      "75%         6.400000     3.300000      5.100000     1.800000     NaN\n",
      "max         7.900000     4.400000      6.900000     2.500000     NaN\n"
     ]
    }
   ],
   "source": [
    "print(iris.describe(include = 'all')) #object파일을 포함해서 계산"
   ]
  },
  {
   "cell_type": "code",
   "execution_count": 13,
   "id": "686bd98f",
   "metadata": {},
   "outputs": [
    {
     "name": "stdout",
     "output_type": "stream",
     "text": [
      "Index(['sepal_length', 'sepal_width', 'petal_length', 'petal_width',\n",
      "       'species'],\n",
      "      dtype='object')\n",
      "\n",
      "\n",
      "sepal_length고유값 개수: 35\n",
      "sepal_width고유값 개수: 23\n",
      "petal_length고유값 개수: 43\n",
      "petal_width고유값 개수: 22\n",
      "species고유값 개수: 3\n"
     ]
    }
   ],
   "source": [
    "# 각 열의 고유값 개수 화긴하기 \n",
    "columns = iris.columns #df.index, df.columns\n",
    "print(columns)\n",
    "print('\\n')\n",
    "for column in columns:\n",
    "    unique_count = iris[column].nunique() #df[열].nunique() 해당열의 고유값 개수를 반환한다.\n",
    "    print('{}고유값 개수: {}'.format(column, unique_count))"
   ]
  },
  {
   "cell_type": "code",
   "execution_count": 14,
   "id": "1e67624b",
   "metadata": {},
   "outputs": [
    {
     "data": {
      "text/plain": [
       "sepal_length    150\n",
       "sepal_width     150\n",
       "petal_length    150\n",
       "petal_width     150\n",
       "species         150\n",
       "dtype: int64"
      ]
     },
     "execution_count": 14,
     "metadata": {},
     "output_type": "execute_result"
    }
   ],
   "source": [
    "iris.count() #각 열의 data갯수를 반환한다. "
   ]
  },
  {
   "cell_type": "code",
   "execution_count": 15,
   "id": "6640de68",
   "metadata": {},
   "outputs": [],
   "source": [
    "unique_count = iris['species'].value_counts() #해당열의 어떤 값이 몇개 있는지를 반환한다. df[열].nunique()와 비교"
   ]
  },
  {
   "cell_type": "code",
   "execution_count": 16,
   "id": "85edf580",
   "metadata": {},
   "outputs": [
    {
     "name": "stdout",
     "output_type": "stream",
     "text": [
      "setosa        50\n",
      "versicolor    50\n",
      "virginica     50\n",
      "Name: species, dtype: int64\n"
     ]
    }
   ],
   "source": [
    "print(unique_count)"
   ]
  },
  {
   "cell_type": "code",
   "execution_count": 18,
   "id": "d2974522",
   "metadata": {},
   "outputs": [
    {
     "name": "stdout",
     "output_type": "stream",
     "text": [
      "3\n"
     ]
    }
   ],
   "source": [
    "#고유값 개수구하는 방법1\n",
    "print(iris['species'].nunique())"
   ]
  },
  {
   "cell_type": "code",
   "execution_count": null,
   "id": "cb479061",
   "metadata": {},
   "outputs": [],
   "source": [
    "#고유값 개수구하는 방법2\n"
   ]
  }
 ],
 "metadata": {
  "kernelspec": {
   "display_name": "Python 3 (ipykernel)",
   "language": "python",
   "name": "python3"
  },
  "language_info": {
   "codemirror_mode": {
    "name": "ipython",
    "version": 3
   },
   "file_extension": ".py",
   "mimetype": "text/x-python",
   "name": "python",
   "nbconvert_exporter": "python",
   "pygments_lexer": "ipython3",
   "version": "3.9.12"
  }
 },
 "nbformat": 4,
 "nbformat_minor": 5
}
