{
 "cells": [
  {
   "cell_type": "markdown",
   "id": "fec25b61",
   "metadata": {},
   "source": [
    "# 색인/슬라이스 기초"
   ]
  },
  {
   "cell_type": "code",
   "execution_count": 1,
   "id": "af877132",
   "metadata": {},
   "outputs": [],
   "source": [
    "# numpy는 데이터 복사를 따로 하지 않는 이상 데이터가 복사되지 않음\n",
    "# 데이터를 복사하기 위해서는 [:]로 슬라이스 해야함. "
   ]
  },
  {
   "cell_type": "code",
   "execution_count": 3,
   "id": "c441ab83",
   "metadata": {},
   "outputs": [],
   "source": [
    "import numpy as np"
   ]
  },
  {
   "cell_type": "code",
   "execution_count": 4,
   "id": "630a17b5",
   "metadata": {},
   "outputs": [],
   "source": [
    "array = np.arange(10)"
   ]
  },
  {
   "cell_type": "code",
   "execution_count": 5,
   "id": "9e9440be",
   "metadata": {},
   "outputs": [
    {
     "data": {
      "text/plain": [
       "array([0, 1, 2, 3, 4, 5, 6, 7, 8, 9])"
      ]
     },
     "execution_count": 5,
     "metadata": {},
     "output_type": "execute_result"
    }
   ],
   "source": [
    "array"
   ]
  },
  {
   "cell_type": "code",
   "execution_count": 6,
   "id": "a0140878",
   "metadata": {},
   "outputs": [],
   "source": [
    "array[3:8] = 10"
   ]
  },
  {
   "cell_type": "code",
   "execution_count": 7,
   "id": "c8ff3b0f",
   "metadata": {},
   "outputs": [
    {
     "data": {
      "text/plain": [
       "array([ 0,  1,  2, 10, 10, 10, 10, 10,  8,  9])"
      ]
     },
     "execution_count": 7,
     "metadata": {},
     "output_type": "execute_result"
    }
   ],
   "source": [
    "array"
   ]
  },
  {
   "cell_type": "code",
   "execution_count": 8,
   "id": "f2e27fe2",
   "metadata": {},
   "outputs": [],
   "source": [
    "array_slice = array[3:8]"
   ]
  },
  {
   "cell_type": "code",
   "execution_count": 9,
   "id": "5480cc68",
   "metadata": {},
   "outputs": [
    {
     "data": {
      "text/plain": [
       "array([10, 10, 10, 10, 10])"
      ]
     },
     "execution_count": 9,
     "metadata": {},
     "output_type": "execute_result"
    }
   ],
   "source": [
    "array_slice"
   ]
  },
  {
   "cell_type": "code",
   "execution_count": 10,
   "id": "56957634",
   "metadata": {},
   "outputs": [],
   "source": [
    "array_slice[1] = 100"
   ]
  },
  {
   "cell_type": "code",
   "execution_count": 11,
   "id": "c1ae077c",
   "metadata": {},
   "outputs": [
    {
     "data": {
      "text/plain": [
       "array([ 10, 100,  10,  10,  10])"
      ]
     },
     "execution_count": 11,
     "metadata": {},
     "output_type": "execute_result"
    }
   ],
   "source": [
    "array_slice"
   ]
  },
  {
   "cell_type": "code",
   "execution_count": 12,
   "id": "31210dbf",
   "metadata": {},
   "outputs": [
    {
     "data": {
      "text/plain": [
       "array([  0,   1,   2,  10, 100,  10,  10,  10,   8,   9])"
      ]
     },
     "execution_count": 12,
     "metadata": {},
     "output_type": "execute_result"
    }
   ],
   "source": [
    "array #array_slice는 복사된것이 아니라 array를 참조한것(즉, 연결되어 있어 변경하면 array도 같이 변경됨)"
   ]
  },
  {
   "cell_type": "code",
   "execution_count": 13,
   "id": "5c1d7d25",
   "metadata": {},
   "outputs": [],
   "source": [
    "array_slice[:] = 99 #원소 전체를 의미한다."
   ]
  },
  {
   "cell_type": "code",
   "execution_count": 14,
   "id": "0a20423c",
   "metadata": {},
   "outputs": [
    {
     "data": {
      "text/plain": [
       "array([99, 99, 99, 99, 99])"
      ]
     },
     "execution_count": 14,
     "metadata": {},
     "output_type": "execute_result"
    }
   ],
   "source": [
    "array_slice"
   ]
  },
  {
   "cell_type": "code",
   "execution_count": 15,
   "id": "21b2e9e0",
   "metadata": {},
   "outputs": [
    {
     "data": {
      "text/plain": [
       "array([ 0,  1,  2, 99, 99, 99, 99, 99,  8,  9])"
      ]
     },
     "execution_count": 15,
     "metadata": {},
     "output_type": "execute_result"
    }
   ],
   "source": [
    "array"
   ]
  },
  {
   "cell_type": "markdown",
   "id": "55b80790",
   "metadata": {},
   "source": [
    "# ndarray 전치 (transpose)"
   ]
  },
  {
   "cell_type": "code",
   "execution_count": 16,
   "id": "e84f1153",
   "metadata": {},
   "outputs": [],
   "source": [
    "array1 = np.arange(32).reshape(2,4,4)"
   ]
  },
  {
   "cell_type": "code",
   "execution_count": 17,
   "id": "e2c67098",
   "metadata": {},
   "outputs": [
    {
     "data": {
      "text/plain": [
       "array([[[ 0,  1,  2,  3],\n",
       "        [ 4,  5,  6,  7],\n",
       "        [ 8,  9, 10, 11],\n",
       "        [12, 13, 14, 15]],\n",
       "\n",
       "       [[16, 17, 18, 19],\n",
       "        [20, 21, 22, 23],\n",
       "        [24, 25, 26, 27],\n",
       "        [28, 29, 30, 31]]])"
      ]
     },
     "execution_count": 17,
     "metadata": {},
     "output_type": "execute_result"
    }
   ],
   "source": [
    "array1"
   ]
  },
  {
   "cell_type": "code",
   "execution_count": 19,
   "id": "c7c47eba",
   "metadata": {},
   "outputs": [
    {
     "data": {
      "text/plain": [
       "(2, 4, 4)"
      ]
     },
     "execution_count": 19,
     "metadata": {},
     "output_type": "execute_result"
    }
   ],
   "source": [
    "array1.shape"
   ]
  },
  {
   "cell_type": "code",
   "execution_count": 20,
   "id": "f03d0126",
   "metadata": {},
   "outputs": [],
   "source": [
    "transpose_array = array1.transpose((1,0,2))\n",
    "#axis1 = 2\n",
    "#axis0 = 4\n",
    "#axis2 = 4\n",
    "#따라서 shape는 (4,2,4)로 될것임, 이거는 3이상의 다차원배열에서 이렇게 됨\n",
    "#2차원 배열은 선형대수의 전치: 행과열을 바꾼다라는 의미"
   ]
  },
  {
   "cell_type": "code",
   "execution_count": 21,
   "id": "2a432b71",
   "metadata": {},
   "outputs": [
    {
     "data": {
      "text/plain": [
       "array([[[ 0,  1,  2,  3],\n",
       "        [16, 17, 18, 19]],\n",
       "\n",
       "       [[ 4,  5,  6,  7],\n",
       "        [20, 21, 22, 23]],\n",
       "\n",
       "       [[ 8,  9, 10, 11],\n",
       "        [24, 25, 26, 27]],\n",
       "\n",
       "       [[12, 13, 14, 15],\n",
       "        [28, 29, 30, 31]]])"
      ]
     },
     "execution_count": 21,
     "metadata": {},
     "output_type": "execute_result"
    }
   ],
   "source": [
    "transpose_array"
   ]
  },
  {
   "cell_type": "markdown",
   "id": "bc791e6a",
   "metadata": {},
   "source": [
    "# 유니버셜 메소드"
   ]
  },
  {
   "cell_type": "code",
   "execution_count": 22,
   "id": "fb6504c2",
   "metadata": {},
   "outputs": [],
   "source": [
    "array2 = np.arange(10)"
   ]
  },
  {
   "cell_type": "code",
   "execution_count": 23,
   "id": "b99a2612",
   "metadata": {},
   "outputs": [],
   "source": [
    "array3 = np.arange(10,20)"
   ]
  },
  {
   "cell_type": "code",
   "execution_count": 24,
   "id": "75cea5d3",
   "metadata": {},
   "outputs": [
    {
     "data": {
      "text/plain": [
       "array([          0,           1,        4096,     1594323,   268435456,\n",
       "         452807053,  -683606016, -2094633337,           0,  -400556711],\n",
       "      dtype=int32)"
      ]
     },
     "execution_count": 24,
     "metadata": {},
     "output_type": "execute_result"
    }
   ],
   "source": [
    "np.power(array2,array3) #밑을 array2로 하고 지수를 array3으로 "
   ]
  },
  {
   "cell_type": "code",
   "execution_count": null,
   "id": "37dbc984",
   "metadata": {},
   "outputs": [],
   "source": []
  }
 ],
 "metadata": {
  "kernelspec": {
   "display_name": "Python 3 (ipykernel)",
   "language": "python",
   "name": "python3"
  },
  "language_info": {
   "codemirror_mode": {
    "name": "ipython",
    "version": 3
   },
   "file_extension": ".py",
   "mimetype": "text/x-python",
   "name": "python",
   "nbconvert_exporter": "python",
   "pygments_lexer": "ipython3",
   "version": "3.9.12"
  }
 },
 "nbformat": 4,
 "nbformat_minor": 5
}
