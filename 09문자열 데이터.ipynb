{
 "cells": [
  {
   "cell_type": "markdown",
   "metadata": {},
   "source": [
    "# 문자열 다루기"
   ]
  },
  {
   "cell_type": "markdown",
   "metadata": {},
   "source": [
    "## 문자열 추출하기"
   ]
  },
  {
   "cell_type": "code",
   "execution_count": null,
   "metadata": {},
   "outputs": [],
   "source": [
    "# 문자열 추출하기\n",
    "\n",
    "word1 = 'python'\n",
    "word2 = 'data analysis'"
   ]
  },
  {
   "cell_type": "code",
   "execution_count": null,
   "metadata": {},
   "outputs": [],
   "source": [
    "print(word1[0])"
   ]
  },
  {
   "cell_type": "code",
   "execution_count": null,
   "metadata": {},
   "outputs": [],
   "source": [
    "print(word2[0])"
   ]
  },
  {
   "cell_type": "code",
   "execution_count": null,
   "metadata": {},
   "outputs": [],
   "source": [
    "print(word1[0:4])"
   ]
  },
  {
   "cell_type": "code",
   "execution_count": null,
   "metadata": {},
   "outputs": [],
   "source": [
    "print(word2[-1])"
   ]
  },
  {
   "cell_type": "code",
   "execution_count": null,
   "metadata": {},
   "outputs": [],
   "source": [
    "print(word2[-4:-1])"
   ]
  },
  {
   "cell_type": "code",
   "execution_count": null,
   "metadata": {},
   "outputs": [],
   "source": [
    "word1 = 'python'\n",
    "word2 = 'data analysis'"
   ]
  },
  {
   "cell_type": "code",
   "execution_count": null,
   "metadata": {},
   "outputs": [],
   "source": [
    "print(len(word1))"
   ]
  },
  {
   "cell_type": "code",
   "execution_count": null,
   "metadata": {},
   "outputs": [],
   "source": [
    "print(len(word2))"
   ]
  },
  {
   "cell_type": "code",
   "execution_count": null,
   "metadata": {},
   "outputs": [],
   "source": [
    "print(word1[:4])"
   ]
  },
  {
   "cell_type": "code",
   "execution_count": null,
   "metadata": {},
   "outputs": [],
   "source": [
    "print(word1[2:6])"
   ]
  },
  {
   "cell_type": "code",
   "execution_count": null,
   "metadata": {},
   "outputs": [],
   "source": [
    "print(word2[:])"
   ]
  },
  {
   "cell_type": "code",
   "execution_count": null,
   "metadata": {},
   "outputs": [],
   "source": [
    "print(word2[::2]) #시작: 끝: 단계"
   ]
  },
  {
   "cell_type": "markdown",
   "metadata": {},
   "source": [
    "## 문자열 메소드 활용하기"
   ]
  },
  {
   "cell_type": "code",
   "execution_count": null,
   "metadata": {},
   "outputs": [],
   "source": [
    "# 문자열 메소드\n",
    "\n",
    "word = 'Big Data Analysis'"
   ]
  },
  {
   "cell_type": "code",
   "execution_count": null,
   "metadata": {},
   "outputs": [],
   "source": [
    "print(word.lower())"
   ]
  },
  {
   "cell_type": "code",
   "execution_count": null,
   "metadata": {},
   "outputs": [],
   "source": [
    "print(word.upper())"
   ]
  },
  {
   "cell_type": "code",
   "execution_count": null,
   "metadata": {},
   "outputs": [],
   "source": [
    "print(word.count('a'))"
   ]
  },
  {
   "cell_type": "code",
   "execution_count": null,
   "metadata": {},
   "outputs": [],
   "source": [
    "print(word.startswith('Big'))"
   ]
  },
  {
   "cell_type": "code",
   "execution_count": null,
   "metadata": {},
   "outputs": [],
   "source": [
    "print(word.endswith('analysis')) #대소를 구분한다 "
   ]
  },
  {
   "cell_type": "code",
   "execution_count": 2,
   "metadata": {},
   "outputs": [],
   "source": [
    "# 문자열 메소드\n",
    "\n",
    "word1 = 'python coding'\n",
    "word2 = ' Big Data Analysis '"
   ]
  },
  {
   "cell_type": "code",
   "execution_count": null,
   "metadata": {},
   "outputs": [],
   "source": [
    "# 일치하는 문자의 첫번째 인덱스를 반환합니다\n",
    "print(word1.find('o'))"
   ]
  },
  {
   "cell_type": "code",
   "execution_count": 3,
   "metadata": {},
   "outputs": [
    {
     "name": "stdout",
     "output_type": "stream",
     "text": [
      "False\n"
     ]
    }
   ],
   "source": [
    "print(word1.isalpha()) #문자열이 모두 알파벳으로 이루어졌나? 공백때문에 False를 반환 "
   ]
  },
  {
   "cell_type": "code",
   "execution_count": null,
   "metadata": {},
   "outputs": [],
   "source": [
    "# 공백을 구분자로 문자열을 나눕니다. 그리고 리스트로 반환합니다. 긴 문자열을 단어로 분해해서 리스트로 구성할 때 사용한다. \n",
    "print(word1.split(' '))"
   ]
  },
  {
   "cell_type": "code",
   "execution_count": null,
   "metadata": {},
   "outputs": [],
   "source": [
    "# 앞뒤 공백을 제거합니다 보통 필요없는 앞뒤공백이 있는 경우가 많아서 사전에 사용하면 좋다.\n",
    "print(word2.strip())"
   ]
  },
  {
   "cell_type": "markdown",
   "metadata": {},
   "source": [
    "### 문자열 메소드 (join)"
   ]
  },
  {
   "cell_type": "code",
   "execution_count": null,
   "metadata": {},
   "outputs": [],
   "source": [
    "word1 = 'kpu'\n",
    "word2 = 'digital'\n",
    "word3 = 'data'\n",
    "\n",
    "vocab1 = '1st'\n",
    "vocab2 = 'class'\n",
    "\n",
    "# 공백을 사용해서 여러개의 문자열을 하나로 합치기\n",
    "sentense = ' '.join([word1, word2, word3, vocab1, vocab2])\n",
    "print(sentense)\n",
    "\n",
    "comma_sentense = ','.join([word1, word2, word3, vocab1, vocab2])\n",
    "print(comma_sentense)"
   ]
  },
  {
   "cell_type": "markdown",
   "metadata": {},
   "source": [
    "### 문자열 메소드 (splitlines)"
   ]
  },
  {
   "cell_type": "code",
   "execution_count": 4,
   "metadata": {},
   "outputs": [
    {
     "data": {
      "text/plain": [
       "['맑고 포근한 봄 날씨가 이어지고 있습니다.',\n",
       " '하지만 내일은 전국에 강풍을 동반한 요란한 비가 내릴 것으로 보여 주의가 필요합니다.',\n",
       " '자세한 날씨, 기상캐스터 연결해 알아봅니다. 홍나실 캐스터!',\n",
       " '오늘은 봄기운이 완연하다고요?']"
      ]
     },
     "execution_count": 4,
     "metadata": {},
     "output_type": "execute_result"
    }
   ],
   "source": [
    "multi_line_string = \"\"\"맑고 포근한 봄 날씨가 이어지고 있습니다.\n",
    "하지만 내일은 전국에 강풍을 동반한 요란한 비가 내릴 것으로 보여 주의가 필요합니다.\n",
    "자세한 날씨, 기상캐스터 연결해 알아봅니다. 홍나실 캐스터!\n",
    "오늘은 봄기운이 완연하다고요?\n",
    "\"\"\"\n",
    "multi_line_split = multi_line_string.splitlines() #enter을 기준으로 나눈다. 리스트로 반환한다.\n",
    "multi_line_split"
   ]
  },
  {
   "cell_type": "code",
   "execution_count": 5,
   "metadata": {},
   "outputs": [
    {
     "name": "stdout",
     "output_type": "stream",
     "text": [
      "맑고 포근한 봄 날씨가 이어지고 있습\n",
      "하지만 내일은 전국에 강풍을 동반한 \n",
      "자세한 날씨, 기상캐스터 연결해 알아\n",
      "오늘은 봄기운이 완연하다고요?\n"
     ]
    }
   ],
   "source": [
    "# 개별 라인별로 문자열을 조작하기\n",
    "for line in multi_line_split:\n",
    "    print(line[:20])"
   ]
  },
  {
   "cell_type": "markdown",
   "metadata": {},
   "source": [
    "### 문자열 메소드 (replace)"
   ]
  },
  {
   "cell_type": "code",
   "execution_count": 6,
   "metadata": {},
   "outputs": [],
   "source": [
    "multi_line_string = \"\"\"맑고 포근한 봄 날씨가 이어지고 있습니다.\n",
    "하지만 내일은 전국에 강풍을 동반한 요란한 비가 내릴 것으로 보여 주의가 필요합니다.\n",
    "자세한 날씨, 기상캐스터 연결해 알아봅니다. 홍나실 캐스터!\n",
    "오늘은 봄기운이 완연하다고요?\n",
    "\"\"\"\n",
    "replace_and_split = multi_line_string.replace(\".\", \"\") \\\n",
    "                                     .replace(\"!\", \"\") \\\n",
    "                                     .replace(\",\", \"\").splitlines() #replace 연이어서 사용가능함. \n",
    "                                                                    #문자 대체 후 그것을 엔터기준으로 나눈다. "
   ]
  },
  {
   "cell_type": "code",
   "execution_count": 7,
   "metadata": {},
   "outputs": [
    {
     "data": {
      "text/plain": [
       "['맑고 포근한 봄 날씨가 이어지고 있습니다',\n",
       " '하지만 내일은 전국에 강풍을 동반한 요란한 비가 내릴 것으로 보여 주의가 필요합니다',\n",
       " '자세한 날씨 기상캐스터 연결해 알아봅니다 홍나실 캐스터',\n",
       " '오늘은 봄기운이 완연하다고요?']"
      ]
     },
     "execution_count": 7,
     "metadata": {},
     "output_type": "execute_result"
    }
   ],
   "source": [
    "replace_and_split"
   ]
  },
  {
   "cell_type": "markdown",
   "metadata": {},
   "source": [
    "# 문자열 포매팅하기"
   ]
  },
  {
   "cell_type": "markdown",
   "metadata": {},
   "source": [
    "## 문자열 format\n",
    "#### 형식은 같은데 안의 내용이 다른 경우 \n",
    "#### 깔끔하게 내용은 변수로 지정하고 형식은 {}를 사용하여 만들어놓자."
   ]
  },
  {
   "cell_type": "code",
   "execution_count": null,
   "metadata": {},
   "outputs": [],
   "source": [
    "name = '김진수'\n",
    "sentense = '안녕하세요, 제 이름은 {}입니다.'\n",
    "\n",
    "print(sentense.format(name))"
   ]
  },
  {
   "cell_type": "code",
   "execution_count": null,
   "metadata": {},
   "outputs": [],
   "source": [
    "print(sentense.format('이지원'))"
   ]
  },
  {
   "cell_type": "code",
   "execution_count": null,
   "metadata": {},
   "outputs": [],
   "source": [
    "# 인덱스를 사용한 format\n",
    "\n",
    "sentense = \"\"\"안녕하세요, 제 이름은 {0}입니다.\n",
    "저의 성별은 {1}이고, 나이는 {2}세입니다.\n",
    "\"\"\"\n",
    "\n",
    "name = '김진수'\n",
    "gender = '남자'\n",
    "age = '20'\n",
    "\n",
    "print(sentense.format(name, gender, age))"
   ]
  },
  {
   "cell_type": "code",
   "execution_count": null,
   "metadata": {},
   "outputs": [],
   "source": [
    "print(sentense.format('이지원', '여자', '30'))"
   ]
  },
  {
   "cell_type": "code",
   "execution_count": null,
   "metadata": {},
   "outputs": [],
   "source": [
    "# 변수명을 사용한 문자열 format\n",
    "\n",
    "sentense = \"\"\"안녕하세요, 제 이름은 {name}입니다.\n",
    "저의 성별은 {gender}이고, 나이는 {age}세입니다.\n",
    "\"\"\"\n",
    "\n",
    "_name = '김진수'\n",
    "_gender = '남자'\n",
    "_age = '20'\n",
    "\n",
    "print(sentense.format(name=_name, gender=_gender, age=_age))"
   ]
  },
  {
   "cell_type": "code",
   "execution_count": null,
   "metadata": {
    "scrolled": true
   },
   "outputs": [],
   "source": [
    "print(sentense.format(name='이지원', gender='여자', age='30'))"
   ]
  },
  {
   "cell_type": "markdown",
   "metadata": {},
   "source": [
    "## 숫자 데이터 format"
   ]
  },
  {
   "cell_type": "code",
   "execution_count": null,
   "metadata": {},
   "outputs": [],
   "source": [
    "sentense = '현재 온도는 {}도 입니다.'\n",
    "\n",
    "print(sentense.format(20.14)) #숫자 -> 문자열로 변환됨 "
   ]
  },
  {
   "cell_type": "code",
   "execution_count": null,
   "metadata": {},
   "outputs": [],
   "source": [
    "sentense = '2020년 A 회사의 매출은 {:,}원입니다.' #세자리수, 구분 \n",
    "\n",
    "print(sentense.format(12040000)) "
   ]
  },
  {
   "cell_type": "code",
   "execution_count": 8,
   "metadata": {},
   "outputs": [
    {
     "name": "stdout",
     "output_type": "stream",
     "text": [
      "현재 우리 제품의 불량률은 0.007414이며, 퍼센트로 나타내면 0.74141%입니다.\n"
     ]
    }
   ],
   "source": [
    "sentense = '현재 우리 제품의 불량률은 {0:.4}이며, 퍼센트로 나타내면 {0:.5%}입니다.' \n",
    "#소수점 4자리까지 표현, 소수점 5자리까지 표현, 백분위로 표현\n",
    "\n",
    "print(sentense.format(0.007414123))"
   ]
  },
  {
   "cell_type": "code",
   "execution_count": 9,
   "metadata": {},
   "outputs": [
    {
     "name": "stdout",
     "output_type": "stream",
     "text": [
      "당신의 사번은 00142입니다.\n"
     ]
    }
   ],
   "source": [
    "sentense = '당신의 사번은 {0:05d}입니다.'\n",
    "\n",
    "print(sentense.format(142))"
   ]
  },
  {
   "cell_type": "markdown",
   "metadata": {},
   "source": [
    "## % 연산자로 format"
   ]
  },
  {
   "cell_type": "code",
   "execution_count": null,
   "metadata": {},
   "outputs": [],
   "source": [
    "sentense = '당신의 이름은 %s입니다.' % '이지원'\n",
    "\n",
    "print(sentense)"
   ]
  },
  {
   "cell_type": "code",
   "execution_count": null,
   "metadata": {},
   "outputs": [],
   "source": [
    "sentense = '당신의 나이는 %d세입니다.' % 30\n",
    "\n",
    "print(sentense)"
   ]
  },
  {
   "cell_type": "code",
   "execution_count": 10,
   "metadata": {},
   "outputs": [
    {
     "name": "stdout",
     "output_type": "stream",
     "text": [
      "당신의 이름은 이지원이고, 점수는 90.16점입니다.\n"
     ]
    }
   ],
   "source": [
    "sentense = '당신의 이름은 %s이고, 점수는 %.2f점입니다.' % ('이지원', 90.155)\n",
    "\n",
    "print(sentense)"
   ]
  },
  {
   "cell_type": "markdown",
   "metadata": {},
   "source": [
    "## f-strings format"
   ]
  },
  {
   "cell_type": "code",
   "execution_count": null,
   "metadata": {},
   "outputs": [],
   "source": [
    "name = '이지원'\n",
    "sentense1 = f'내 이름은 {name}입니다.'\n",
    "\n",
    "print(sentense1)"
   ]
  },
  {
   "cell_type": "code",
   "execution_count": 11,
   "metadata": {},
   "outputs": [
    {
     "name": "stdout",
     "output_type": "stream",
     "text": [
      "현재 위도는 10.323, 경도는 79.124입니다.\n"
     ]
    }
   ],
   "source": [
    "lat = '10.323'\n",
    "lon = '79.124'\n",
    "sentense2 = f'현재 위도는 {lat}, 경도는 {lon}입니다.'\n",
    "\n",
    "print(sentense2)"
   ]
  },
  {
   "cell_type": "markdown",
   "metadata": {},
   "source": [
    "# 정규표현식 사용하기\n",
    "#### 아주 많은 문자열 가운데 내가 원하는 패턴의 문자열을 추출하려면?\n",
    "#### 내가 찾고자 하는 문자열에 해당하는 정규식 패턴을 만들어야함.\n",
    "#### http://regexr.com와 같은 웹사이트에서 테스트 가능하다.\n",
    "#### 정규표현식 특수문자 28,29페이지 강의자료 참고 "
   ]
  },
  {
   "cell_type": "markdown",
   "metadata": {},
   "source": [
    "## match\n",
    "#### match() 메소드는 문자열의 처음부터 검색하여 찾아낸 패턴의 양 끝 인덱스를 반환함"
   ]
  },
  {
   "cell_type": "code",
   "execution_count": 12,
   "metadata": {},
   "outputs": [],
   "source": [
    "import re #python 에서 정규표현식을 지원하는 라이브러리 re\n",
    "\n",
    "number = '123 4567 890'"
   ]
  },
  {
   "cell_type": "code",
   "execution_count": 13,
   "metadata": {},
   "outputs": [
    {
     "name": "stdout",
     "output_type": "stream",
     "text": [
      "<re.Match object; span=(0, 3), match='123'>\n"
     ]
    }
   ],
   "source": [
    "match = re.match('[0-9]{3}', number) #0~9로 이루어진 연속된 숫자 3개\n",
    "print(match)"
   ]
  },
  {
   "cell_type": "code",
   "execution_count": 14,
   "metadata": {},
   "outputs": [
    {
     "name": "stdout",
     "output_type": "stream",
     "text": [
      "None\n"
     ]
    }
   ],
   "source": [
    "match = re.match('[0-9]{10}', number) #공백때문에 연속되지 않음 \n",
    "print(match)"
   ]
  },
  {
   "cell_type": "code",
   "execution_count": 15,
   "metadata": {},
   "outputs": [
    {
     "name": "stdout",
     "output_type": "stream",
     "text": [
      "<re.Match object; span=(0, 12), match='123 4567 890'>\n"
     ]
    }
   ],
   "source": [
    "match = re.match('(\\d+)\\s(\\d+)\\s(\\d+)', number) #숫자 한개 이상으로 이루어진 단어3개, 공백 2개\n",
    "print(match)"
   ]
  },
  {
   "cell_type": "markdown",
   "metadata": {},
   "source": [
    "## findall\n",
    "#### findall() 메소드는 일치하는 패턴을 모두 찾아 리스트로 반환함"
   ]
  },
  {
   "cell_type": "code",
   "execution_count": 16,
   "metadata": {},
   "outputs": [],
   "source": [
    "import re\n",
    "\n",
    "number = '123 4567 890'"
   ]
  },
  {
   "cell_type": "code",
   "execution_count": 17,
   "metadata": {},
   "outputs": [
    {
     "name": "stdout",
     "output_type": "stream",
     "text": [
      "['123', '456', '890']\n"
     ]
    }
   ],
   "source": [
    "regex_list = re.findall('[0-9]{3}', number)\n",
    "print(regex_list)"
   ]
  },
  {
   "cell_type": "code",
   "execution_count": 18,
   "metadata": {},
   "outputs": [
    {
     "name": "stdout",
     "output_type": "stream",
     "text": [
      "['123', '4567', '890']\n"
     ]
    }
   ],
   "source": [
    "regex_list = re.findall('\\d{3,4}', number) #연속된 숫자 3 or 4\n",
    "print(regex_list)"
   ]
  },
  {
   "cell_type": "code",
   "execution_count": 19,
   "metadata": {},
   "outputs": [
    {
     "name": "stdout",
     "output_type": "stream",
     "text": [
      "[]\n"
     ]
    }
   ],
   "source": [
    "regex_list = re.findall('^abc', number) #abc로 시작하는 문자 \n",
    "print(regex_list)"
   ]
  }
 ],
 "metadata": {
  "kernelspec": {
   "display_name": "Python 3.9.12 ('base')",
   "language": "python",
   "name": "python3"
  },
  "language_info": {
   "codemirror_mode": {
    "name": "ipython",
    "version": 3
   },
   "file_extension": ".py",
   "mimetype": "text/x-python",
   "name": "python",
   "nbconvert_exporter": "python",
   "pygments_lexer": "ipython3",
   "version": "3.9.12"
  },
  "vscode": {
   "interpreter": {
    "hash": "5441a12ba58279f23887b1011e7a23d03583c2b2b85ffad549d2ba9cf9a5585a"
   }
  }
 },
 "nbformat": 4,
 "nbformat_minor": 4
}
